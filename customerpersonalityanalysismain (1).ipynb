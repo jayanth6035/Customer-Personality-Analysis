{
  "cells": [
    {
      "cell_type": "code",
      "execution_count": 1,
      "id": "fc5f17df",
      "metadata": {
        "ExecuteTime": {
          "end_time": "2023-05-26T04:26:41.849971Z",
          "start_time": "2023-05-26T04:26:41.733102Z"
        },
        "colab": {
          "base_uri": "https://localhost:8080/",
          "height": 114
        },
        "id": "fc5f17df",
        "outputId": "b5135be4-1068-46a3-db17-304d3bebc443"
      },
      "outputs": [
        {
          "output_type": "display_data",
          "data": {
            "text/plain": [
              "<Figure size 400x100 with 1 Axes>"
            ],
            "image/png": "[encoded data removed]"
          },
          "metadata": {}
        }
      ],
      "source": [
        "import pandas as pd # Python library for data analysis and data frame\n",
        "import numpy as np # Numerical Python library for linear algebra and computations\n",
        "pd.set_option('display.max_columns', None) # code to display all columns\n",
        "\n",
        "# Visualisation libraries\n",
        "import matplotlib.pyplot as plt\n",
        "import seaborn as sns\n",
        "%matplotlib inline\n",
        "\n",
        "from datetime import date, datetime # for manupulating time and date columns\n",
        "\n",
        "from sklearn.preprocessing import OneHotEncoder, OrdinalEncoder, StandardScaler # For handling categorical column and scaling numeric columns\n",
        "\n",
        "# Libraries for clustering and evaluation\n",
        "from sklearn.cluster import KMeans\n",
        "from yellowbrick.cluster import KElbowVisualizer\n",
        "from sklearn.metrics import silhouette_score\n",
        "\n",
        "import warnings\n",
        "warnings.filterwarnings(\"ignore\") # To prevent kernel from showing any warning\n",
        "\n",
        "# set the color palette\n",
        "palette = sns.color_palette([\"#292859\",'#373482','#504DB6','#5B59DD'])\n",
        "sns.palplot(palette) # print color palette"
      ]
    },
    {
      "cell_type": "code",
      "execution_count": 2,
      "id": "4248d3df",
      "metadata": {
        "ExecuteTime": {
          "end_time": "2023-05-26T04:26:47.512437Z",
          "start_time": "2023-05-26T04:26:47.475972Z"
        },
        "id": "4248d3df"
      },
      "outputs": [],
      "source": [
        "df = pd.read_csv('Customer personality Analysis (3).csv')"
      ]
    },
    {
      "cell_type": "code",
      "execution_count": 3,
      "id": "3be62619",
      "metadata": {
        "ExecuteTime": {
          "end_time": "2023-05-26T04:26:47.527657Z",
          "start_time": "2023-05-26T04:26:47.517711Z"
        },
        "colab": {
          "base_uri": "https://localhost:8080/"
        },
        "id": "3be62619",
        "outputId": "ca46a63b-99f1-4ec5-d9be-391fa841f7ec"
      },
      "outputs": [
        {
          "output_type": "execute_result",
          "data": {
            "text/plain": [
              "(2240, 29)"
            ]
          },
          "metadata": {},
          "execution_count": 3
        }
      ],
      "source": [
        "df.shape"
      ]
    },
    {
      "cell_type": "code",
      "execution_count": 4,
      "id": "57b83c6b",
      "metadata": {
        "ExecuteTime": {
          "end_time": "2023-05-26T04:26:47.581340Z",
          "start_time": "2023-05-26T04:26:47.531323Z"
        },
        "colab": {
          "base_uri": "https://localhost:8080/",
          "height": 488
        },
        "id": "57b83c6b",
        "outputId": "2a8b6855-2f9f-46e0-da80-adffce27487e"
      },
      "outputs": [
        {
          "output_type": "execute_result",
          "data": {
            "text/plain": [
              "         ID  Year_Birth   Education Marital_Status   Income  Kidhome  \\\n",
              "0      5524        1957  Graduation         Single  58138.0        0   \n",
              "1      2174        1954  Graduation         Single  46344.0        1   \n",
              "2      4141        1965  Graduation       Together  71613.0        0   \n",
              "3      6182        1984  Graduation       Together  26646.0        1   \n",
              "4      5324        1981         PhD        Married  58293.0        1   \n",
              "...     ...         ...         ...            ...      ...      ...   \n",
              "2235  10870        1967  Graduation        Married  61223.0        0   \n",
              "2236   4001        1946         PhD       Together  64014.0        2   \n",
              "2237   7270        1981  Graduation       Divorced  56981.0        0   \n",
              "2238   8235        1956      Master       Together  69245.0        0   \n",
              "2239   9405        1954         PhD        Married  52869.0        1   \n",
              "\n",
              "      Teenhome Dt_Customer  Recency  MntWines  MntFruits  MntMeatProducts  \\\n",
              "0            0  04-09-2012       58       635         88              546   \n",
              "1            1  08-03-2014       38        11          1                6   \n",
              "2            0  21-08-2013       26       426         49              127   \n",
              "3            0  10-02-2014       26        11          4               20   \n",
              "4            0  19-01-2014       94       173         43              118   \n",
              "...        ...         ...      ...       ...        ...              ...   \n",
              "2235         1  13-06-2013       46       709         43              182   \n",
              "2236         1  10-06-2014       56       406          0               30   \n",
              "2237         0  25-01-2014       91       908         48              217   \n",
              "2238         1  24-01-2014        8       428         30              214   \n",
              "2239         1  15-10-2012       40        84          3               61   \n",
              "\n",
              "      MntFishProducts  MntSweetProducts  MntGoldProds  NumDealsPurchases  \\\n",
              "0                 172                88            88                  3   \n",
              "1                   2                 1             6                  2   \n",
              "2                 111                21            42                  1   \n",
              "3                  10                 3             5                  2   \n",
              "4                  46                27            15                  5   \n",
              "...               ...               ...           ...                ...   \n",
              "2235               42               118           247                  2   \n",
              "2236                0                 0             8                  7   \n",
              "2237               32                12            24                  1   \n",
              "2238               80                30            61                  2   \n",
              "2239                2                 1            21                  3   \n",
              "\n",
              "      NumWebPurchases  NumCatalogPurchases  NumStorePurchases  \\\n",
              "0                   8                   10                  4   \n",
              "1                   1                    1                  2   \n",
              "2                   8                    2                 10   \n",
              "3                   2                    0                  4   \n",
              "4                   5                    3                  6   \n",
              "...               ...                  ...                ...   \n",
              "2235                9                    3                  4   \n",
              "2236                8                    2                  5   \n",
              "2237                2                    3                 13   \n",
              "2238                6                    5                 10   \n",
              "2239                3                    1                  4   \n",
              "\n",
              "      NumWebVisitsMonth  AcceptedCmp3  AcceptedCmp4  AcceptedCmp5  \\\n",
              "0                     7             0             0             0   \n",
              "1                     5             0             0             0   \n",
              "2                     4             0             0             0   \n",
              "3                     6             0             0             0   \n",
              "4                     5             0             0             0   \n",
              "...                 ...           ...           ...           ...   \n",
              "2235                  5             0             0             0   \n",
              "2236                  7             0             0             0   \n",
              "2237                  6             0             1             0   \n",
              "2238                  3             0             0             0   \n",
              "2239                  7             0             0             0   \n",
              "\n",
              "      AcceptedCmp1  AcceptedCmp2  Complain  Z_CostContact  Z_Revenue  Response  \n",
              "0                0             0         0              3         11         1  \n",
              "1                0             0         0              3         11         0  \n",
              "2                0             0         0              3         11         0  \n",
              "3                0             0         0              3         11         0  \n",
              "4                0             0         0              3         11         0  \n",
              "...            ...           ...       ...            ...        ...       ...  \n",
              "2235             0             0         0              3         11         0  \n",
              "2236             1             0         0              3         11         0  \n",
              "2237             0             0         0              3         11         0  \n",
              "2238             0             0         0              3         11         0  \n",
              "2239             0             0         0              3         11         1  \n",
              "\n",
              "[2240 rows x 29 columns]"
            ],
            "text/html": [
              "\n",
              "  <div id=\"df-73abb561-2859-4c1c-88fa-4e478968cc00\">\n",
              "    <div class=\"colab-df-container\">\n",
              "      <div>\n",
              "<style scoped>\n",
              "    .dataframe tbody tr th:only-of-type {\n",
              "        vertical-align: middle;\n",
              "    }\n",
              "\n",
              "    .dataframe tbody tr th {\n",
              "        vertical-align: top;\n",
              "    }\n",
              "\n",
              "    .dataframe thead th {\n",
              "        text-align: right;\n",
              "    }\n",
              "</style>\n",
              "<table border=\"1\" class=\"dataframe\">\n",
              "  <thead>\n",
              "    <tr style=\"text-align: right;\">\n",
              "      <th></th>\n",
              "      <th>ID</th>\n",
              "      <th>Year_Birth</th>\n",
              "      <th>Education</th>\n",
              "      <th>Marital_Status</th>\n",
              "      <th>Income</th>\n",
              "      <th>Kidhome</th>\n",
              "      <th>Teenhome</th>\n",
              "      <th>Dt_Customer</th>\n",
              "      <th>Recency</th>\n",
              "      <th>MntWines</th>\n",
              "      <th>MntFruits</th>\n",
              "      <th>MntMeatProducts</th>\n",
              "      <th>MntFishProducts</th>\n",
              "      <th>MntSweetProducts</th>\n",
              "      <th>MntGoldProds</th>\n",
              "      <th>NumDealsPurchases</th>\n",
              "      <th>NumWebPurchases</th>\n",
              "      <th>NumCatalogPurchases</th>\n",
              "      <th>NumStorePurchases</th>\n",
              "      <th>NumWebVisitsMonth</th>\n",
              "      <th>AcceptedCmp3</th>\n",
              "      <th>AcceptedCmp4</th>\n",
              "      <th>AcceptedCmp5</th>\n",
              "      <th>AcceptedCmp1</th>\n",
              "      <th>AcceptedCmp2</th>\n",
              "      <th>Complain</th>\n",
              "      <th>Z_CostContact</th>\n",
              "      <th>Z_Revenue</th>\n",
              "      <th>Response</th>\n",
              "    </tr>\n",
              "  </thead>\n",
              "  <tbody>\n",
              "    <tr>\n",
              "      <th>0</th>\n",
              "      <td>5524</td>\n",
              "      <td>1957</td>\n",
              "      <td>Graduation</td>\n",
              "      <td>Single</td>\n",
              "      <td>58138.0</td>\n",
              "      <td>0</td>\n",
              "      <td>0</td>\n",
              "      <td>04-09-2012</td>\n",
              "      <td>58</td>\n",
              "      <td>635</td>\n",
              "      <td>88</td>\n",
              "      <td>546</td>\n",
              "      <td>172</td>\n",
              "      <td>88</td>\n",
              "      <td>88</td>\n",
              "      <td>3</td>\n",
              "      <td>8</td>\n",
              "      <td>10</td>\n",
              "      <td>4</td>\n",
              "      <td>7</td>\n",
              "      <td>0</td>\n",
              "      <td>0</td>\n",
              "      <td>0</td>\n",
              "      <td>0</td>\n",
              "      <td>0</td>\n",
              "      <td>0</td>\n",
              "      <td>3</td>\n",
              "      <td>11</td>\n",
              "      <td>1</td>\n",
              "    </tr>\n",
              "    <tr>\n",
              "      <th>1</th>\n",
              "      <td>2174</td>\n",
              "      <td>1954</td>\n",
              "      <td>Graduation</td>\n",
              "      <td>Single</td>\n",
              "      <td>46344.0</td>\n",
              "      <td>1</td>\n",
              "      <td>1</td>\n",
              "      <td>08-03-2014</td>\n",
              "      <td>38</td>\n",
              "      <td>11</td>\n",
              "      <td>1</td>\n",
              "      <td>6</td>\n",
              "      <td>2</td>\n",
              "      <td>1</td>\n",
              "      <td>6</td>\n",
              "      <td>2</td>\n",
              "      <td>1</td>\n",
              "      <td>1</td>\n",
              "      <td>2</td>\n",
              "      <td>5</td>\n",
              "      <td>0</td>\n",
              "      <td>0</td>\n",
              "      <td>0</td>\n",
              "      <td>0</td>\n",
              "      <td>0</td>\n",
              "      <td>0</td>\n",
              "      <td>3</td>\n",
              "      <td>11</td>\n",
              "      <td>0</td>\n",
              "    </tr>\n",
              "    <tr>\n",
              "      <th>2</th>\n",
              "      <td>4141</td>\n",
              "      <td>1965</td>\n",
              "      <td>Graduation</td>\n",
              "      <td>Together</td>\n",
              "      <td>71613.0</td>\n",
              "      <td>0</td>\n",
              "      <td>0</td>\n",
              "      <td>21-08-2013</td>\n",
              "      <td>26</td>\n",
              "      <td>426</td>\n",
              "      <td>49</td>\n",
              "      <td>127</td>\n",
              "      <td>111</td>\n",
              "      <td>21</td>\n",
              "      <td>42</td>\n",
              "      <td>1</td>\n",
              "      <td>8</td>\n",
              "      <td>2</td>\n",
              "      <td>10</td>\n",
              "      <td>4</td>\n",
              "      <td>0</td>\n",
              "      <td>0</td>\n",
              "      <td>0</td>\n",
              "      <td>0</td>\n",
              "      <td>0</td>\n",
              "      <td>0</td>\n",
              "      <td>3</td>\n",
              "      <td>11</td>\n",
              "      <td>0</td>\n",
              "    </tr>\n",
              "    <tr>\n",
              "      <th>3</th>\n",
              "      <td>6182</td>\n",
              "      <td>1984</td>\n",
              "      <td>Graduation</td>\n",
              "      <td>Together</td>\n",
              "      <td>26646.0</td>\n",
              "      <td>1</td>\n",
              "      <td>0</td>\n",
              "      <td>10-02-2014</td>\n",
              "      <td>26</td>\n",
              "      <td>11</td>\n",
              "      <td>4</td>\n",
              "      <td>20</td>\n",
              "      <td>10</td>\n",
              "      <td>3</td>\n",
              "      <td>5</td>\n",
              "      <td>2</td>\n",
              "      <td>2</td>\n",
              "      <td>0</td>\n",
              "      <td>4</td>\n",
              "      <td>6</td>\n",
              "      <td>0</td>\n",
              "      <td>0</td>\n",
              "      <td>0</td>\n",
              "      <td>0</td>\n",
              "      <td>0</td>\n",
              "      <td>0</td>\n",
              "      <td>3</td>\n",
              "      <td>11</td>\n",
              "      <td>0</td>\n",
              "    </tr>\n",
              "    <tr>\n",
              "      <th>4</th>\n",
              "      <td>5324</td>\n",
              "      <td>1981</td>\n",
              "      <td>PhD</td>\n",
              "      <td>Married</td>\n",
              "      <td>58293.0</td>\n",
              "      <td>1</td>\n",
              "      <td>0</td>\n",
              "      <td>19-01-2014</td>\n",
              "      <td>94</td>\n",
              "      <td>173</td>\n",
              "      <td>43</td>\n",
              "      <td>118</td>\n",
              "      <td>46</td>\n",
              "      <td>27</td>\n",
              "      <td>15</td>\n",
              "      <td>5</td>\n",
              "      <td>5</td>\n",
              "      <td>3</td>\n",
              "      <td>6</td>\n",
              "      <td>5</td>\n",
              "      <td>0</td>\n",
              "      <td>0</td>\n",
              "      <td>0</td>\n",
              "      <td>0</td>\n",
              "      <td>0</td>\n",
              "      <td>0</td>\n",
              "      <td>3</td>\n",
              "      <td>11</td>\n",
              "      <td>0</td>\n",
              "    </tr>\n",
              "    <tr>\n",
              "      <th>...</th>\n",
              "      <td>...</td>\n",
              "      <td>...</td>\n",
              "      <td>...</td>\n",
              "      <td>...</td>\n",
              "      <td>...</td>\n",
              "      <td>...</td>\n",
              "      <td>...</td>\n",
              "      <td>...</td>\n",
              "      <td>...</td>\n",
              "      <td>...</td>\n",
              "      <td>...</td>\n",
              "      <td>...</td>\n",
              "      <td>...</td>\n",
              "      <td>...</td>\n",
              "      <td>...</td>\n",
              "      <td>...</td>\n",
              "      <td>...</td>\n",
              "      <td>...</td>\n",
              "      <td>...</td>\n",
              "      <td>...</td>\n",
              "      <td>...</td>\n",
              "      <td>...</td>\n",
              "      <td>...</td>\n",
              "      <td>...</td>\n",
              "      <td>...</td>\n",
              "      <td>...</td>\n",
              "      <td>...</td>\n",
              "      <td>...</td>\n",
              "      <td>...</td>\n",
              "    </tr>\n",
              "    <tr>\n",
              "      <th>2235</th>\n",
              "      <td>10870</td>\n",
              "      <td>1967</td>\n",
              "      <td>Graduation</td>\n",
              "      <td>Married</td>\n",
              "      <td>61223.0</td>\n",
              "      <td>0</td>\n",
              "      <td>1</td>\n",
              "      <td>13-06-2013</td>\n",
              "      <td>46</td>\n",
              "      <td>709</td>\n",
              "      <td>43</td>\n",
              "      <td>182</td>\n",
              "      <td>42</td>\n",
              "      <td>118</td>\n",
              "      <td>247</td>\n",
              "      <td>2</td>\n",
              "      <td>9</td>\n",
              "      <td>3</td>\n",
              "      <td>4</td>\n",
              "      <td>5</td>\n",
              "      <td>0</td>\n",
              "      <td>0</td>\n",
              "      <td>0</td>\n",
              "      <td>0</td>\n",
              "      <td>0</td>\n",
              "      <td>0</td>\n",
              "      <td>3</td>\n",
              "      <td>11</td>\n",
              "      <td>0</td>\n",
              "    </tr>\n",
              "    <tr>\n",
              "      <th>2236</th>\n",
              "      <td>4001</td>\n",
              "      <td>1946</td>\n",
              "      <td>PhD</td>\n",
              "      <td>Together</td>\n",
              "      <td>64014.0</td>\n",
              "      <td>2</td>\n",
              "      <td>1</td>\n",
              "      <td>10-06-2014</td>\n",
              "      <td>56</td>\n",
              "      <td>406</td>\n",
              "      <td>0</td>\n",
              "      <td>30</td>\n",
              "      <td>0</td>\n",
              "      <td>0</td>\n",
              "      <td>8</td>\n",
              "      <td>7</td>\n",
              "      <td>8</td>\n",
              "      <td>2</td>\n",
              "      <td>5</td>\n",
              "      <td>7</td>\n",
              "      <td>0</td>\n",
              "      <td>0</td>\n",
              "      <td>0</td>\n",
              "      <td>1</td>\n",
              "      <td>0</td>\n",
              "      <td>0</td>\n",
              "      <td>3</td>\n",
              "      <td>11</td>\n",
              "      <td>0</td>\n",
              "    </tr>\n",
              "    <tr>\n",
              "      <th>2237</th>\n",
              "      <td>7270</td>\n",
              "      <td>1981</td>\n",
              "      <td>Graduation</td>\n",
              "      <td>Divorced</td>\n",
              "      <td>56981.0</td>\n",
              "      <td>0</td>\n",
              "      <td>0</td>\n",
              "      <td>25-01-2014</td>\n",
              "      <td>91</td>\n",
              "      <td>908</td>\n",
              "      <td>48</td>\n",
              "      <td>217</td>\n",
              "      <td>32</td>\n",
              "      <td>12</td>\n",
              "      <td>24</td>\n",
              "      <td>1</td>\n",
              "      <td>2</td>\n",
              "      <td>3</td>\n",
              "      <td>13</td>\n",
              "      <td>6</td>\n",
              "      <td>0</td>\n",
              "      <td>1</td>\n",
              "      <td>0</td>\n",
              "      <td>0</td>\n",
              "      <td>0</td>\n",
              "      <td>0</td>\n",
              "      <td>3</td>\n",
              "      <td>11</td>\n",
              "      <td>0</td>\n",
              "    </tr>\n",
              "    <tr>\n",
              "      <th>2238</th>\n",
              "      <td>8235</td>\n",
              "      <td>1956</td>\n",
              "      <td>Master</td>\n",
              "      <td>Together</td>\n",
              "      <td>69245.0</td>\n",
              "      <td>0</td>\n",
              "      <td>1</td>\n",
              "      <td>24-01-2014</td>\n",
              "      <td>8</td>\n",
              "      <td>428</td>\n",
              "      <td>30</td>\n",
              "      <td>214</td>\n",
              "      <td>80</td>\n",
              "      <td>30</td>\n",
              "      <td>61</td>\n",
              "      <td>2</td>\n",
              "      <td>6</td>\n",
              "      <td>5</td>\n",
              "      <td>10</td>\n",
              "      <td>3</td>\n",
              "      <td>0</td>\n",
              "      <td>0</td>\n",
              "      <td>0</td>\n",
              "      <td>0</td>\n",
              "      <td>0</td>\n",
              "      <td>0</td>\n",
              "      <td>3</td>\n",
              "      <td>11</td>\n",
              "      <td>0</td>\n",
              "    </tr>\n",
              "    <tr>\n",
              "      <th>2239</th>\n",
              "      <td>9405</td>\n",
              "      <td>1954</td>\n",
              "      <td>PhD</td>\n",
              "      <td>Married</td>\n",
              "      <td>52869.0</td>\n",
              "      <td>1</td>\n",
              "      <td>1</td>\n",
              "      <td>15-10-2012</td>\n",
              "      <td>40</td>\n",
              "      <td>84</td>\n",
              "      <td>3</td>\n",
              "      <td>61</td>\n",
              "      <td>2</td>\n",
              "      <td>1</td>\n",
              "      <td>21</td>\n",
              "      <td>3</td>\n",
              "      <td>3</td>\n",
              "      <td>1</td>\n",
              "      <td>4</td>\n",
              "      <td>7</td>\n",
              "      <td>0</td>\n",
              "      <td>0</td>\n",
              "      <td>0</td>\n",
              "      <td>0</td>\n",
              "      <td>0</td>\n",
              "      <td>0</td>\n",
              "      <td>3</td>\n",
              "      <td>11</td>\n",
              "      <td>1</td>\n",
              "    </tr>\n",
              "  </tbody>\n",
              "</table>\n",
              "<p>2240 rows × 29 columns</p>\n",
              "</div>\n",
              "      <button class=\"colab-df-convert\" onclick=\"convertToInteractive('df-73abb561-2859-4c1c-88fa-4e478968cc00')\"\n",
              "              title=\"Convert this dataframe to an interactive table.\"\n",
              "              style=\"display:none;\">\n",
              "        \n",
              "  <svg xmlns=\"http://www.w3.org/2000/svg\" height=\"24px\"viewBox=\"0 0 24 24\"\n",
              "       width=\"24px\">\n",
              "    <path d=\"M0 0h24v24H0V0z\" fill=\"none\"/>\n",
              "    <path d=\"M18.56 5.44l.94 2.06.94-2.06 2.06-.94-2.06-.94-.94-2.06-.94 2.06-2.06.94zm-11 1L8.5 8.5l.94-2.06 2.06-.94-2.06-.94L8.5 2.5l-.94 2.06-2.06.94zm10 10l.94 2.06.94-2.06 2.06-.94-2.06-.94-.94-2.06-.94 2.06-2.06.94z\"/><path d=\"M17.41 7.96l-1.37-1.37c-.4-.4-.92-.59-1.43-.59-.52 0-1.04.2-1.43.59L10.3 9.45l-7.72 7.72c-.78.78-.78 2.05 0 2.83L4 21.41c.39.39.9.59 1.41.59.51 0 1.02-.2 1.41-.59l7.78-7.78 2.81-2.81c.8-.78.8-2.07 0-2.86zM5.41 20L4 18.59l7.72-7.72 1.47 1.35L5.41 20z\"/>\n",
              "  </svg>\n",
              "      </button>\n",
              "      \n",
              "  <style>\n",
              "    .colab-df-container {\n",
              "      display:flex;\n",
              "      flex-wrap:wrap;\n",
              "      gap: 12px;\n",
              "    }\n",
              "\n",
              "    .colab-df-convert {\n",
              "      background-color: #E8F0FE;\n",
              "      border: none;\n",
              "      border-radius: 50%;\n",
              "      cursor: pointer;\n",
              "      display: none;\n",
              "      fill: #1967D2;\n",
              "      height: 32px;\n",
              "      padding: 0 0 0 0;\n",
              "      width: 32px;\n",
              "    }\n",
              "\n",
              "    .colab-df-convert:hover {\n",
              "      background-color: #E2EBFA;\n",
              "      box-shadow: 0px 1px 2px rgba(60, 64, 67, 0.3), 0px 1px 3px 1px rgba(60, 64, 67, 0.15);\n",
              "      fill: #174EA6;\n",
              "    }\n",
              "\n",
              "    [theme=dark] .colab-df-convert {\n",
              "      background-color: #3B4455;\n",
              "      fill: #D2E3FC;\n",
              "    }\n",
              "\n",
              "    [theme=dark] .colab-df-convert:hover {\n",
              "      background-color: #434B5C;\n",
              "      box-shadow: 0px 1px 3px 1px rgba(0, 0, 0, 0.15);\n",
              "      filter: drop-shadow(0px 1px 2px rgba(0, 0, 0, 0.3));\n",
              "      fill: #FFFFFF;\n",
              "    }\n",
              "  </style>\n",
              "\n",
              "      <script>\n",
              "        const buttonEl =\n",
              "          document.querySelector('#df-73abb561-2859-4c1c-88fa-4e478968cc00 button.colab-df-convert');\n",
              "        buttonEl.style.display =\n",
              "          google.colab.kernel.accessAllowed ? 'block' : 'none';\n",
              "\n",
              "        async function convertToInteractive(key) {\n",
              "          const element = document.querySelector('#df-73abb561-2859-4c1c-88fa-4e478968cc00');\n",
              "          const dataTable =\n",
              "            await google.colab.kernel.invokeFunction('convertToInteractive',\n",
              "                                                     [key], {});\n",
              "          if (!dataTable) return;\n",
              "\n",
              "          const docLinkHtml = 'Like what you see? Visit the ' +\n",
              "            '<a target=\"_blank\" href=https://colab.research.google.com/notebooks/data_table.ipynb>data table notebook</a>'\n",
              "            + ' to learn more about interactive tables.';\n",
              "          element.innerHTML = '';\n",
              "          dataTable['output_type'] = 'display_data';\n",
              "          await google.colab.output.renderOutput(dataTable, element);\n",
              "          const docLink = document.createElement('div');\n",
              "          docLink.innerHTML = docLinkHtml;\n",
              "          element.appendChild(docLink);\n",
              "        }\n",
              "      </script>\n",
              "    </div>\n",
              "  </div>\n",
              "  "
            ]
          },
          "metadata": {},
          "execution_count": 4
        }
      ],
      "source": [
        "df"
      ]
    },
    {
      "cell_type": "code",
      "execution_count": 5,
      "id": "3f5fd4d5",
      "metadata": {
        "ExecuteTime": {
          "end_time": "2023-05-26T04:26:47.622926Z",
          "start_time": "2023-05-26T04:26:47.584793Z"
        },
        "colab": {
          "base_uri": "https://localhost:8080/"
        },
        "id": "3f5fd4d5",
        "outputId": "ac29c377-2cb4-408b-d2c3-f8d80257393f"
      },
      "outputs": [
        {
          "output_type": "execute_result",
          "data": {
            "text/plain": [
              "<bound method DataFrame.info of          ID  Year_Birth   Education Marital_Status   Income  Kidhome  \\\n",
              "0      5524        1957  Graduation         Single  58138.0        0   \n",
              "1      2174        1954  Graduation         Single  46344.0        1   \n",
              "2      4141        1965  Graduation       Together  71613.0        0   \n",
              "3      6182        1984  Graduation       Together  26646.0        1   \n",
              "4      5324        1981         PhD        Married  58293.0        1   \n",
              "...     ...         ...         ...            ...      ...      ...   \n",
              "2235  10870        1967  Graduation        Married  61223.0        0   \n",
              "2236   4001        1946         PhD       Together  64014.0        2   \n",
              "2237   7270        1981  Graduation       Divorced  56981.0        0   \n",
              "2238   8235        1956      Master       Together  69245.0        0   \n",
              "2239   9405        1954         PhD        Married  52869.0        1   \n",
              "\n",
              "      Teenhome Dt_Customer  Recency  MntWines  MntFruits  MntMeatProducts  \\\n",
              "0            0  04-09-2012       58       635         88              546   \n",
              "1            1  08-03-2014       38        11          1                6   \n",
              "2            0  21-08-2013       26       426         49              127   \n",
              "3            0  10-02-2014       26        11          4               20   \n",
              "4            0  19-01-2014       94       173         43              118   \n",
              "...        ...         ...      ...       ...        ...              ...   \n",
              "2235         1  13-06-2013       46       709         43              182   \n",
              "2236         1  10-06-2014       56       406          0               30   \n",
              "2237         0  25-01-2014       91       908         48              217   \n",
              "2238         1  24-01-2014        8       428         30              214   \n",
              "2239         1  15-10-2012       40        84          3               61   \n",
              "\n",
              "      MntFishProducts  MntSweetProducts  MntGoldProds  NumDealsPurchases  \\\n",
              "0                 172                88            88                  3   \n",
              "1                   2                 1             6                  2   \n",
              "2                 111                21            42                  1   \n",
              "3                  10                 3             5                  2   \n",
              "4                  46                27            15                  5   \n",
              "...               ...               ...           ...                ...   \n",
              "2235               42               118           247                  2   \n",
              "2236                0                 0             8                  7   \n",
              "2237               32                12            24                  1   \n",
              "2238               80                30            61                  2   \n",
              "2239                2                 1            21                  3   \n",
              "\n",
              "      NumWebPurchases  NumCatalogPurchases  NumStorePurchases  \\\n",
              "0                   8                   10                  4   \n",
              "1                   1                    1                  2   \n",
              "2                   8                    2                 10   \n",
              "3                   2                    0                  4   \n",
              "4                   5                    3                  6   \n",
              "...               ...                  ...                ...   \n",
              "2235                9                    3                  4   \n",
              "2236                8                    2                  5   \n",
              "2237                2                    3                 13   \n",
              "2238                6                    5                 10   \n",
              "2239                3                    1                  4   \n",
              "\n",
              "      NumWebVisitsMonth  AcceptedCmp3  AcceptedCmp4  AcceptedCmp5  \\\n",
              "0                     7             0             0             0   \n",
              "1                     5             0             0             0   \n",
              "2                     4             0             0             0   \n",
              "3                     6             0             0             0   \n",
              "4                     5             0             0             0   \n",
              "...                 ...           ...           ...           ...   \n",
              "2235                  5             0             0             0   \n",
              "2236                  7             0             0             0   \n",
              "2237                  6             0             1             0   \n",
              "2238                  3             0             0             0   \n",
              "2239                  7             0             0             0   \n",
              "\n",
              "      AcceptedCmp1  AcceptedCmp2  Complain  Z_CostContact  Z_Revenue  Response  \n",
              "0                0             0         0              3         11         1  \n",
              "1                0             0         0              3         11         0  \n",
              "2                0             0         0              3         11         0  \n",
              "3                0             0         0              3         11         0  \n",
              "4                0             0         0              3         11         0  \n",
              "...            ...           ...       ...            ...        ...       ...  \n",
              "2235             0             0         0              3         11         0  \n",
              "2236             1             0         0              3         11         0  \n",
              "2237             0             0         0              3         11         0  \n",
              "2238             0             0         0              3         11         0  \n",
              "2239             0             0         0              3         11         1  \n",
              "\n",
              "[2240 rows x 29 columns]>"
            ]
          },
          "metadata": {},
          "execution_count": 5
        }
      ],
      "source": [
        "df.info"
      ]
    },
    {
      "cell_type": "code",
      "execution_count": 6,
      "id": "df4304a4",
      "metadata": {
        "ExecuteTime": {
          "end_time": "2023-05-26T04:26:47.648254Z",
          "start_time": "2023-05-26T04:26:47.626103Z"
        },
        "colab": {
          "base_uri": "https://localhost:8080/"
        },
        "id": "df4304a4",
        "outputId": "cf570456-c487-42c3-e507-d213e052f16a"
      },
      "outputs": [
        {
          "output_type": "execute_result",
          "data": {
            "text/plain": [
              "ID                      0\n",
              "Year_Birth              0\n",
              "Education               0\n",
              "Marital_Status          0\n",
              "Income                 24\n",
              "Kidhome                 0\n",
              "Teenhome                0\n",
              "Dt_Customer             0\n",
              "Recency                 0\n",
              "MntWines                0\n",
              "MntFruits               0\n",
              "MntMeatProducts         0\n",
              "MntFishProducts         0\n",
              "MntSweetProducts        0\n",
              "MntGoldProds            0\n",
              "NumDealsPurchases       0\n",
              "NumWebPurchases         0\n",
              "NumCatalogPurchases     0\n",
              "NumStorePurchases       0\n",
              "NumWebVisitsMonth       0\n",
              "AcceptedCmp3            0\n",
              "AcceptedCmp4            0\n",
              "AcceptedCmp5            0\n",
              "AcceptedCmp1            0\n",
              "AcceptedCmp2            0\n",
              "Complain                0\n",
              "Z_CostContact           0\n",
              "Z_Revenue               0\n",
              "Response                0\n",
              "dtype: int64"
            ]
          },
          "metadata": {},
          "execution_count": 6
        }
      ],
      "source": [
        "df.isnull().sum()"
      ]
    },
    {
      "cell_type": "code",
      "execution_count": 7,
      "id": "1331ac79",
      "metadata": {
        "ExecuteTime": {
          "end_time": "2023-05-26T04:26:47.798041Z",
          "start_time": "2023-05-26T04:26:47.652330Z"
        },
        "colab": {
          "base_uri": "https://localhost:8080/",
          "height": 364
        },
        "id": "1331ac79",
        "outputId": "3dc7887a-a529-4b1a-8526-c6e348f61344"
      },
      "outputs": [
        {
          "output_type": "execute_result",
          "data": {
            "text/plain": [
              "                 ID   Year_Birth         Income      Kidhome     Teenhome  \\\n",
              "count   2240.000000  2240.000000    2216.000000  2240.000000  2240.000000   \n",
              "mean    5592.159821  1968.805804   52247.251354     0.444196     0.506250   \n",
              "std     3246.662198    11.984069   25173.076661     0.538398     0.544538   \n",
              "min        0.000000  1893.000000    1730.000000     0.000000     0.000000   \n",
              "25%     2828.250000  1959.000000   35303.000000     0.000000     0.000000   \n",
              "50%     5458.500000  1970.000000   51381.500000     0.000000     0.000000   \n",
              "75%     8427.750000  1977.000000   68522.000000     1.000000     1.000000   \n",
              "max    11191.000000  1996.000000  666666.000000     2.000000     2.000000   \n",
              "\n",
              "           Recency     MntWines    MntFruits  MntMeatProducts  \\\n",
              "count  2240.000000  2240.000000  2240.000000      2240.000000   \n",
              "mean     49.109375   303.935714    26.302232       166.950000   \n",
              "std      28.962453   336.597393    39.773434       225.715373   \n",
              "min       0.000000     0.000000     0.000000         0.000000   \n",
              "25%      24.000000    23.750000     1.000000        16.000000   \n",
              "50%      49.000000   173.500000     8.000000        67.000000   \n",
              "75%      74.000000   504.250000    33.000000       232.000000   \n",
              "max      99.000000  1493.000000   199.000000      1725.000000   \n",
              "\n",
              "       MntFishProducts  MntSweetProducts  MntGoldProds  NumDealsPurchases  \\\n",
              "count      2240.000000       2240.000000   2240.000000        2240.000000   \n",
              "mean         37.525446         27.062946     44.021875           2.325000   \n",
              "std          54.628979         41.280498     52.167439           1.932238   \n",
              "min           0.000000          0.000000      0.000000           0.000000   \n",
              "25%           3.000000          1.000000      9.000000           1.000000   \n",
              "50%          12.000000          8.000000     24.000000           2.000000   \n",
              "75%          50.000000         33.000000     56.000000           3.000000   \n",
              "max         259.000000        263.000000    362.000000          15.000000   \n",
              "\n",
              "       NumWebPurchases  NumCatalogPurchases  NumStorePurchases  \\\n",
              "count      2240.000000          2240.000000        2240.000000   \n",
              "mean          4.084821             2.662054           5.790179   \n",
              "std           2.778714             2.923101           3.250958   \n",
              "min           0.000000             0.000000           0.000000   \n",
              "25%           2.000000             0.000000           3.000000   \n",
              "50%           4.000000             2.000000           5.000000   \n",
              "75%           6.000000             4.000000           8.000000   \n",
              "max          27.000000            28.000000          13.000000   \n",
              "\n",
              "       NumWebVisitsMonth  AcceptedCmp3  AcceptedCmp4  AcceptedCmp5  \\\n",
              "count        2240.000000   2240.000000   2240.000000   2240.000000   \n",
              "mean            5.316518      0.072768      0.074554      0.072768   \n",
              "std             2.426645      0.259813      0.262728      0.259813   \n",
              "min             0.000000      0.000000      0.000000      0.000000   \n",
              "25%             3.000000      0.000000      0.000000      0.000000   \n",
              "50%             6.000000      0.000000      0.000000      0.000000   \n",
              "75%             7.000000      0.000000      0.000000      0.000000   \n",
              "max            20.000000      1.000000      1.000000      1.000000   \n",
              "\n",
              "       AcceptedCmp1  AcceptedCmp2     Complain  Z_CostContact  Z_Revenue  \\\n",
              "count   2240.000000   2240.000000  2240.000000         2240.0     2240.0   \n",
              "mean       0.064286      0.013393     0.009375            3.0       11.0   \n",
              "std        0.245316      0.114976     0.096391            0.0        0.0   \n",
              "min        0.000000      0.000000     0.000000            3.0       11.0   \n",
              "25%        0.000000      0.000000     0.000000            3.0       11.0   \n",
              "50%        0.000000      0.000000     0.000000            3.0       11.0   \n",
              "75%        0.000000      0.000000     0.000000            3.0       11.0   \n",
              "max        1.000000      1.000000     1.000000            3.0       11.0   \n",
              "\n",
              "          Response  \n",
              "count  2240.000000  \n",
              "mean      0.149107  \n",
              "std       0.356274  \n",
              "min       0.000000  \n",
              "25%       0.000000  \n",
              "50%       0.000000  \n",
              "75%       0.000000  \n",
              "max       1.000000  "
            ],
            "text/html": [
              "\n",
              "  <div id=\"df-9b69049d-6b7e-4f85-82f5-3717503942f1\">\n",
              "    <div class=\"colab-df-container\">\n",
              "      <div>\n",
              "<style scoped>\n",
              "    .dataframe tbody tr th:only-of-type {\n",
              "        vertical-align: middle;\n",
              "    }\n",
              "\n",
              "    .dataframe tbody tr th {\n",
              "        vertical-align: top;\n",
              "    }\n",
              "\n",
              "    .dataframe thead th {\n",
              "        text-align: right;\n",
              "    }\n",
              "</style>\n",
              "<table border=\"1\" class=\"dataframe\">\n",
              "  <thead>\n",
              "    <tr style=\"text-align: right;\">\n",
              "      <th></th>\n",
              "      <th>ID</th>\n",
              "      <th>Year_Birth</th>\n",
              "      <th>Income</th>\n",
              "      <th>Kidhome</th>\n",
              "      <th>Teenhome</th>\n",
              "      <th>Recency</th>\n",
              "      <th>MntWines</th>\n",
              "      <th>MntFruits</th>\n",
              "      <th>MntMeatProducts</th>\n",
              "      <th>MntFishProducts</th>\n",
              "      <th>MntSweetProducts</th>\n",
              "      <th>MntGoldProds</th>\n",
              "      <th>NumDealsPurchases</th>\n",
              "      <th>NumWebPurchases</th>\n",
              "      <th>NumCatalogPurchases</th>\n",
              "      <th>NumStorePurchases</th>\n",
              "      <th>NumWebVisitsMonth</th>\n",
              "      <th>AcceptedCmp3</th>\n",
              "      <th>AcceptedCmp4</th>\n",
              "      <th>AcceptedCmp5</th>\n",
              "      <th>AcceptedCmp1</th>\n",
              "      <th>AcceptedCmp2</th>\n",
              "      <th>Complain</th>\n",
              "      <th>Z_CostContact</th>\n",
              "      <th>Z_Revenue</th>\n",
              "      <th>Response</th>\n",
              "    </tr>\n",
              "  </thead>\n",
              "  <tbody>\n",
              "    <tr>\n",
              "      <th>count</th>\n",
              "      <td>2240.000000</td>\n",
              "      <td>2240.000000</td>\n",
              "      <td>2216.000000</td>\n",
              "      <td>2240.000000</td>\n",
              "      <td>2240.000000</td>\n",
              "      <td>2240.000000</td>\n",
              "      <td>2240.000000</td>\n",
              "      <td>2240.000000</td>\n",
              "      <td>2240.000000</td>\n",
              "      <td>2240.000000</td>\n",
              "      <td>2240.000000</td>\n",
              "      <td>2240.000000</td>\n",
              "      <td>2240.000000</td>\n",
              "      <td>2240.000000</td>\n",
              "      <td>2240.000000</td>\n",
              "      <td>2240.000000</td>\n",
              "      <td>2240.000000</td>\n",
              "      <td>2240.000000</td>\n",
              "      <td>2240.000000</td>\n",
              "      <td>2240.000000</td>\n",
              "      <td>2240.000000</td>\n",
              "      <td>2240.000000</td>\n",
              "      <td>2240.000000</td>\n",
              "      <td>2240.0</td>\n",
              "      <td>2240.0</td>\n",
              "      <td>2240.000000</td>\n",
              "    </tr>\n",
              "    <tr>\n",
              "      <th>mean</th>\n",
              "      <td>5592.159821</td>\n",
              "      <td>1968.805804</td>\n",
              "      <td>52247.251354</td>\n",
              "      <td>0.444196</td>\n",
              "      <td>0.506250</td>\n",
              "      <td>49.109375</td>\n",
              "      <td>303.935714</td>\n",
              "      <td>26.302232</td>\n",
              "      <td>166.950000</td>\n",
              "      <td>37.525446</td>\n",
              "      <td>27.062946</td>\n",
              "      <td>44.021875</td>\n",
              "      <td>2.325000</td>\n",
              "      <td>4.084821</td>\n",
              "      <td>2.662054</td>\n",
              "      <td>5.790179</td>\n",
              "      <td>5.316518</td>\n",
              "      <td>0.072768</td>\n",
              "      <td>0.074554</td>\n",
              "      <td>0.072768</td>\n",
              "      <td>0.064286</td>\n",
              "      <td>0.013393</td>\n",
              "      <td>0.009375</td>\n",
              "      <td>3.0</td>\n",
              "      <td>11.0</td>\n",
              "      <td>0.149107</td>\n",
              "    </tr>\n",
              "    <tr>\n",
              "      <th>std</th>\n",
              "      <td>3246.662198</td>\n",
              "      <td>11.984069</td>\n",
              "      <td>25173.076661</td>\n",
              "      <td>0.538398</td>\n",
              "      <td>0.544538</td>\n",
              "      <td>28.962453</td>\n",
              "      <td>336.597393</td>\n",
              "      <td>39.773434</td>\n",
              "      <td>225.715373</td>\n",
              "      <td>54.628979</td>\n",
              "      <td>41.280498</td>\n",
              "      <td>52.167439</td>\n",
              "      <td>1.932238</td>\n",
              "      <td>2.778714</td>\n",
              "      <td>2.923101</td>\n",
              "      <td>3.250958</td>\n",
              "      <td>2.426645</td>\n",
              "      <td>0.259813</td>\n",
              "      <td>0.262728</td>\n",
              "      <td>0.259813</td>\n",
              "      <td>0.245316</td>\n",
              "      <td>0.114976</td>\n",
              "      <td>0.096391</td>\n",
              "      <td>0.0</td>\n",
              "      <td>0.0</td>\n",
              "      <td>0.356274</td>\n",
              "    </tr>\n",
              "    <tr>\n",
              "      <th>min</th>\n",
              "      <td>0.000000</td>\n",
              "      <td>1893.000000</td>\n",
              "      <td>1730.000000</td>\n",
              "      <td>0.000000</td>\n",
              "      <td>0.000000</td>\n",
              "      <td>0.000000</td>\n",
              "      <td>0.000000</td>\n",
              "      <td>0.000000</td>\n",
              "      <td>0.000000</td>\n",
              "      <td>0.000000</td>\n",
              "      <td>0.000000</td>\n",
              "      <td>0.000000</td>\n",
              "      <td>0.000000</td>\n",
              "      <td>0.000000</td>\n",
              "      <td>0.000000</td>\n",
              "      <td>0.000000</td>\n",
              "      <td>0.000000</td>\n",
              "      <td>0.000000</td>\n",
              "      <td>0.000000</td>\n",
              "      <td>0.000000</td>\n",
              "      <td>0.000000</td>\n",
              "      <td>0.000000</td>\n",
              "      <td>0.000000</td>\n",
              "      <td>3.0</td>\n",
              "      <td>11.0</td>\n",
              "      <td>0.000000</td>\n",
              "    </tr>\n",
              "    <tr>\n",
              "      <th>25%</th>\n",
              "      <td>2828.250000</td>\n",
              "      <td>1959.000000</td>\n",
              "      <td>35303.000000</td>\n",
              "      <td>0.000000</td>\n",
              "      <td>0.000000</td>\n",
              "      <td>24.000000</td>\n",
              "      <td>23.750000</td>\n",
              "      <td>1.000000</td>\n",
              "      <td>16.000000</td>\n",
              "      <td>3.000000</td>\n",
              "      <td>1.000000</td>\n",
              "      <td>9.000000</td>\n",
              "      <td>1.000000</td>\n",
              "      <td>2.000000</td>\n",
              "      <td>0.000000</td>\n",
              "      <td>3.000000</td>\n",
              "      <td>3.000000</td>\n",
              "      <td>0.000000</td>\n",
              "      <td>0.000000</td>\n",
              "      <td>0.000000</td>\n",
              "      <td>0.000000</td>\n",
              "      <td>0.000000</td>\n",
              "      <td>0.000000</td>\n",
              "      <td>3.0</td>\n",
              "      <td>11.0</td>\n",
              "      <td>0.000000</td>\n",
              "    </tr>\n",
              "    <tr>\n",
              "      <th>50%</th>\n",
              "      <td>5458.500000</td>\n",
              "      <td>1970.000000</td>\n",
              "      <td>51381.500000</td>\n",
              "      <td>0.000000</td>\n",
              "      <td>0.000000</td>\n",
              "      <td>49.000000</td>\n",
              "      <td>173.500000</td>\n",
              "      <td>8.000000</td>\n",
              "      <td>67.000000</td>\n",
              "      <td>12.000000</td>\n",
              "      <td>8.000000</td>\n",
              "      <td>24.000000</td>\n",
              "      <td>2.000000</td>\n",
              "      <td>4.000000</td>\n",
              "      <td>2.000000</td>\n",
              "      <td>5.000000</td>\n",
              "      <td>6.000000</td>\n",
              "      <td>0.000000</td>\n",
              "      <td>0.000000</td>\n",
              "      <td>0.000000</td>\n",
              "      <td>0.000000</td>\n",
              "      <td>0.000000</td>\n",
              "      <td>0.000000</td>\n",
              "      <td>3.0</td>\n",
              "      <td>11.0</td>\n",
              "      <td>0.000000</td>\n",
              "    </tr>\n",
              "    <tr>\n",
              "      <th>75%</th>\n",
              "      <td>8427.750000</td>\n",
              "      <td>1977.000000</td>\n",
              "      <td>68522.000000</td>\n",
              "      <td>1.000000</td>\n",
              "      <td>1.000000</td>\n",
              "      <td>74.000000</td>\n",
              "      <td>504.250000</td>\n",
              "      <td>33.000000</td>\n",
              "      <td>232.000000</td>\n",
              "      <td>50.000000</td>\n",
              "      <td>33.000000</td>\n",
              "      <td>56.000000</td>\n",
              "      <td>3.000000</td>\n",
              "      <td>6.000000</td>\n",
              "      <td>4.000000</td>\n",
              "      <td>8.000000</td>\n",
              "      <td>7.000000</td>\n",
              "      <td>0.000000</td>\n",
              "      <td>0.000000</td>\n",
              "      <td>0.000000</td>\n",
              "      <td>0.000000</td>\n",
              "      <td>0.000000</td>\n",
              "      <td>0.000000</td>\n",
              "      <td>3.0</td>\n",
              "      <td>11.0</td>\n",
              "      <td>0.000000</td>\n",
              "    </tr>\n",
              "    <tr>\n",
              "      <th>max</th>\n",
              "      <td>11191.000000</td>\n",
              "      <td>1996.000000</td>\n",
              "      <td>666666.000000</td>\n",
              "      <td>2.000000</td>\n",
              "      <td>2.000000</td>\n",
              "      <td>99.000000</td>\n",
              "      <td>1493.000000</td>\n",
              "      <td>199.000000</td>\n",
              "      <td>1725.000000</td>\n",
              "      <td>259.000000</td>\n",
              "      <td>263.000000</td>\n",
              "      <td>362.000000</td>\n",
              "      <td>15.000000</td>\n",
              "      <td>27.000000</td>\n",
              "      <td>28.000000</td>\n",
              "      <td>13.000000</td>\n",
              "      <td>20.000000</td>\n",
              "      <td>1.000000</td>\n",
              "      <td>1.000000</td>\n",
              "      <td>1.000000</td>\n",
              "      <td>1.000000</td>\n",
              "      <td>1.000000</td>\n",
              "      <td>1.000000</td>\n",
              "      <td>3.0</td>\n",
              "      <td>11.0</td>\n",
              "      <td>1.000000</td>\n",
              "    </tr>\n",
              "  </tbody>\n",
              "</table>\n",
              "</div>\n",
              "      <button class=\"colab-df-convert\" onclick=\"convertToInteractive('df-9b69049d-6b7e-4f85-82f5-3717503942f1')\"\n",
              "              title=\"Convert this dataframe to an interactive table.\"\n",
              "              style=\"display:none;\">\n",
              "        \n",
              "  <svg xmlns=\"http://www.w3.org/2000/svg\" height=\"24px\"viewBox=\"0 0 24 24\"\n",
              "       width=\"24px\">\n",
              "    <path d=\"M0 0h24v24H0V0z\" fill=\"none\"/>\n",
              "    <path d=\"M18.56 5.44l.94 2.06.94-2.06 2.06-.94-2.06-.94-.94-2.06-.94 2.06-2.06.94zm-11 1L8.5 8.5l.94-2.06 2.06-.94-2.06-.94L8.5 2.5l-.94 2.06-2.06.94zm10 10l.94 2.06.94-2.06 2.06-.94-2.06-.94-.94-2.06-.94 2.06-2.06.94z\"/><path d=\"M17.41 7.96l-1.37-1.37c-.4-.4-.92-.59-1.43-.59-.52 0-1.04.2-1.43.59L10.3 9.45l-7.72 7.72c-.78.78-.78 2.05 0 2.83L4 21.41c.39.39.9.59 1.41.59.51 0 1.02-.2 1.41-.59l7.78-7.78 2.81-2.81c.8-.78.8-2.07 0-2.86zM5.41 20L4 18.59l7.72-7.72 1.47 1.35L5.41 20z\"/>\n",
              "  </svg>\n",
              "      </button>\n",
              "      \n",
              "  <style>\n",
              "    .colab-df-container {\n",
              "      display:flex;\n",
              "      flex-wrap:wrap;\n",
              "      gap: 12px;\n",
              "    }\n",
              "\n",
              "    .colab-df-convert {\n",
              "      background-color: #E8F0FE;\n",
              "      border: none;\n",
              "      border-radius: 50%;\n",
              "      cursor: pointer;\n",
              "      display: none;\n",
              "      fill: #1967D2;\n",
              "      height: 32px;\n",
              "      padding: 0 0 0 0;\n",
              "      width: 32px;\n",
              "    }\n",
              "\n",
              "    .colab-df-convert:hover {\n",
              "      background-color: #E2EBFA;\n",
              "      box-shadow: 0px 1px 2px rgba(60, 64, 67, 0.3), 0px 1px 3px 1px rgba(60, 64, 67, 0.15);\n",
              "      fill: #174EA6;\n",
              "    }\n",
              "\n",
              "    [theme=dark] .colab-df-convert {\n",
              "      background-color: #3B4455;\n",
              "      fill: #D2E3FC;\n",
              "    }\n",
              "\n",
              "    [theme=dark] .colab-df-convert:hover {\n",
              "      background-color: #434B5C;\n",
              "      box-shadow: 0px 1px 3px 1px rgba(0, 0, 0, 0.15);\n",
              "      filter: drop-shadow(0px 1px 2px rgba(0, 0, 0, 0.3));\n",
              "      fill: #FFFFFF;\n",
              "    }\n",
              "  </style>\n",
              "\n",
              "      <script>\n",
              "        const buttonEl =\n",
              "          document.querySelector('#df-9b69049d-6b7e-4f85-82f5-3717503942f1 button.colab-df-convert');\n",
              "        buttonEl.style.display =\n",
              "          google.colab.kernel.accessAllowed ? 'block' : 'none';\n",
              "\n",
              "        async function convertToInteractive(key) {\n",
              "          const element = document.querySelector('#df-9b69049d-6b7e-4f85-82f5-3717503942f1');\n",
              "          const dataTable =\n",
              "            await google.colab.kernel.invokeFunction('convertToInteractive',\n",
              "                                                     [key], {});\n",
              "          if (!dataTable) return;\n",
              "\n",
              "          const docLinkHtml = 'Like what you see? Visit the ' +\n",
              "            '<a target=\"_blank\" href=https://colab.research.google.com/notebooks/data_table.ipynb>data table notebook</a>'\n",
              "            + ' to learn more about interactive tables.';\n",
              "          element.innerHTML = '';\n",
              "          dataTable['output_type'] = 'display_data';\n",
              "          await google.colab.output.renderOutput(dataTable, element);\n",
              "          const docLink = document.createElement('div');\n",
              "          docLink.innerHTML = docLinkHtml;\n",
              "          element.appendChild(docLink);\n",
              "        }\n",
              "      </script>\n",
              "    </div>\n",
              "  </div>\n",
              "  "
            ]
          },
          "metadata": {},
          "execution_count": 7
        }
      ],
      "source": [
        "df.describe()"
      ]
    },
    {
      "cell_type": "code",
      "execution_count": 8,
      "id": "1ce27da7",
      "metadata": {
        "ExecuteTime": {
          "end_time": "2023-05-26T04:26:47.831302Z",
          "start_time": "2023-05-26T04:26:47.802070Z"
        },
        "colab": {
          "base_uri": "https://localhost:8080/"
        },
        "id": "1ce27da7",
        "outputId": "6505ade2-214c-4e6f-b808-614fe74905ef"
      },
      "outputs": [
        {
          "output_type": "execute_result",
          "data": {
            "text/plain": [
              "0"
            ]
          },
          "metadata": {},
          "execution_count": 8
        }
      ],
      "source": [
        "df.duplicated().sum()"
      ]
    },
    {
      "cell_type": "code",
      "execution_count": 9,
      "id": "6dee6fb4",
      "metadata": {
        "ExecuteTime": {
          "end_time": "2023-05-26T04:26:47.862130Z",
          "start_time": "2023-05-26T04:26:47.841056Z"
        },
        "id": "6dee6fb4"
      },
      "outputs": [],
      "source": [
        "df.rename(columns = {'MntGoldProds':'MntGoldProducts'}, inplace = True)"
      ]
    },
    {
      "cell_type": "code",
      "execution_count": 10,
      "id": "aec1dd73",
      "metadata": {
        "ExecuteTime": {
          "end_time": "2023-05-26T04:26:47.908879Z",
          "start_time": "2023-05-26T04:26:47.865850Z"
        },
        "id": "aec1dd73"
      },
      "outputs": [],
      "source": [
        "# converting columns to DateTime format\n",
        "df['Year_Birth'] = pd.to_datetime(df['Year_Birth'], format ='%Y')\n",
        "df['Dt_Customer'] = pd.to_datetime(df['Dt_Customer'])"
      ]
    },
    {
      "cell_type": "code",
      "execution_count": 11,
      "id": "74bff63d",
      "metadata": {
        "ExecuteTime": {
          "end_time": "2023-05-26T04:26:47.932848Z",
          "start_time": "2023-05-26T04:26:47.912856Z"
        },
        "colab": {
          "base_uri": "https://localhost:8080/"
        },
        "id": "74bff63d",
        "outputId": "0315bdd0-e79d-4bca-fdb8-b581e289a041"
      },
      "outputs": [
        {
          "output_type": "execute_result",
          "data": {
            "text/plain": [
              "6.763487372811116"
            ]
          },
          "metadata": {},
          "execution_count": 11
        }
      ],
      "source": [
        "# Check the skewness before imputation of numeric cols\n",
        "df['Income'].skew()"
      ]
    },
    {
      "cell_type": "code",
      "execution_count": 12,
      "id": "34d00710",
      "metadata": {
        "ExecuteTime": {
          "end_time": "2023-05-26T04:26:47.948230Z",
          "start_time": "2023-05-26T04:26:47.937603Z"
        },
        "id": "34d00710"
      },
      "outputs": [],
      "source": [
        "# Replacing null values with median cause the data is skewed which means there are outliers in the data\n",
        "df['Income'].fillna(df['Income'].median(), inplace = True)"
      ]
    },
    {
      "cell_type": "code",
      "execution_count": 13,
      "id": "97c3f224",
      "metadata": {
        "ExecuteTime": {
          "end_time": "2023-05-26T04:26:47.981440Z",
          "start_time": "2023-05-26T04:26:47.954342Z"
        },
        "colab": {
          "base_uri": "https://localhost:8080/"
        },
        "id": "97c3f224",
        "outputId": "eba40ff7-3a76-4980-d98f-469da58b335a"
      },
      "outputs": [
        {
          "output_type": "execute_result",
          "data": {
            "text/plain": [
              "Graduation    1127\n",
              "PhD            486\n",
              "Master         370\n",
              "2n Cycle       203\n",
              "Basic           54\n",
              "Name: Education, dtype: int64"
            ]
          },
          "metadata": {},
          "execution_count": 13
        }
      ],
      "source": [
        "# check the unique values\n",
        "df['Education'].value_counts()"
      ]
    },
    {
      "cell_type": "code",
      "execution_count": 14,
      "id": "f02a169d",
      "metadata": {
        "ExecuteTime": {
          "end_time": "2023-05-26T04:26:48.014825Z",
          "start_time": "2023-05-26T04:26:47.986124Z"
        },
        "colab": {
          "base_uri": "https://localhost:8080/"
        },
        "id": "f02a169d",
        "outputId": "a76053c5-5bc1-4bbc-a38a-d867c889356d"
      },
      "outputs": [
        {
          "output_type": "execute_result",
          "data": {
            "text/plain": [
              "Married     864\n",
              "Together    580\n",
              "Single      480\n",
              "Divorced    232\n",
              "Widow        77\n",
              "Alone         3\n",
              "Absurd        2\n",
              "YOLO          2\n",
              "Name: Marital_Status, dtype: int64"
            ]
          },
          "metadata": {},
          "execution_count": 14
        }
      ],
      "source": [
        "# check the unique values\n",
        "df['Marital_Status'].value_counts()"
      ]
    },
    {
      "cell_type": "code",
      "execution_count": 15,
      "id": "08d9210e",
      "metadata": {
        "ExecuteTime": {
          "end_time": "2023-05-26T04:26:48.048045Z",
          "start_time": "2023-05-26T04:26:48.019446Z"
        },
        "colab": {
          "base_uri": "https://localhost:8080/"
        },
        "id": "08d9210e",
        "outputId": "aa27e3fc-87f2-44ea-c6f1-3ac09d48768b"
      },
      "outputs": [
        {
          "output_type": "execute_result",
          "data": {
            "text/plain": [
              "(2012, 2014)"
            ]
          },
          "metadata": {},
          "execution_count": 15
        }
      ],
      "source": [
        "# findout the first and last date in dataset\n",
        "df[\"Dt_Customer\"].dt.year.min() , df[\"Dt_Customer\"].dt.year.max()"
      ]
    },
    {
      "cell_type": "code",
      "execution_count": 16,
      "id": "d2c2c874",
      "metadata": {
        "ExecuteTime": {
          "end_time": "2023-05-26T04:26:48.152806Z",
          "start_time": "2023-05-26T04:26:48.052644Z"
        },
        "id": "d2c2c874"
      },
      "outputs": [],
      "source": [
        "# Creating Age and Years_Customer ( Amount of years a personn has been customer) columns.\n",
        "df['Age'] = (df[\"Dt_Customer\"].dt.year.max()) - (df['Year_Birth'].dt.year)\n",
        "df['Years_Customer'] = (df[\"Dt_Customer\"].dt.year.max()) - (df['Dt_Customer'].dt.year)\n",
        "df['Days_Customer'] = (df[\"Dt_Customer\"].max()) - (df['Dt_Customer'])\n",
        "\n",
        "# Total amount spent on products\n",
        "df['TotalMntSpent'] = df['MntWines'] + df['MntFruits'] + df['MntMeatProducts'] + df['MntFishProducts'] + df['MntSweetProducts'] + df['MntGoldProducts']\n",
        "\n",
        "# Total number of purchases made\n",
        "df['TotalNumPurchases'] = df['NumWebPurchases'] + df['NumCatalogPurchases'] + df['NumStorePurchases'] + df['NumDealsPurchases']\n",
        "\n",
        "# Total number of accepted campaigns\n",
        "df['Total_Acc_Cmp'] = df['AcceptedCmp1'] + df['AcceptedCmp2'] + df['AcceptedCmp3'] + df['AcceptedCmp4'] + df['AcceptedCmp5'] + df['Response']\n",
        "\n",
        "# adding columns about the day, month and year cutomer joined\n",
        "df['Year_Joined'] = df['Dt_Customer'].dt.year\n",
        "df['Month_Joined'] = df['Dt_Customer'].dt.strftime(\"%B\")\n",
        "df['Day_Joined'] = df['Dt_Customer'].dt.day_name()\n",
        "\n",
        "# dividing age into groups\n",
        "df['Age_Group'] = pd.cut(x = df['Age'], bins = [17, 24, 44, 64, 150],\n",
        "                         labels = ['Young adult','Adult','Middel Aged','Senior Citizen'])\n",
        "# Total children living in the household\n",
        "df[\"Children\"] = df[\"Kidhome\"] +  df[\"Teenhome\"]\n",
        "\n",
        "#Deriving living situation by marital status\n",
        "df[\"Partner\"]=df[\"Marital_Status\"].replace({\"Married\":\"Yes\", \"Together\":\"Yes\", \"Absurd\":\"No\", \"Widow\":\"No\", \"YOLO\":\"No\", \"Divorced\":\"No\", \"Single\":\"No\",\"Alone\":\"No\"})\n",
        "\n",
        "#Segmenting education levels in three groups\n",
        "df[\"Education_Level\"]=df[\"Education\"].replace({\"Basic\":\"Undergraduate\",\"2n Cycle\":\"Undergraduate\", \"Graduation\":\"Graduate\", \"Master\":\"Postgraduate\", \"PhD\":\"Postgraduate\"})"
      ]
    },
    {
      "cell_type": "code",
      "execution_count": 17,
      "id": "2f71d4a0",
      "metadata": {
        "ExecuteTime": {
          "end_time": "2023-05-26T04:26:48.181617Z",
          "start_time": "2023-05-26T04:26:48.154626Z"
        },
        "id": "2f71d4a0"
      },
      "outputs": [],
      "source": [
        "# Dropping useless columns\n",
        "df.drop(['ID','Z_CostContact','Z_Revenue','Year_Birth','Dt_Customer'], axis=1, inplace=True)"
      ]
    },
    {
      "cell_type": "code",
      "execution_count": 18,
      "id": "a5ffc3ac",
      "metadata": {
        "ExecuteTime": {
          "end_time": "2023-05-26T04:26:48.206332Z",
          "start_time": "2023-05-26T04:26:48.186883Z"
        },
        "id": "a5ffc3ac"
      },
      "outputs": [],
      "source": [
        "# Converting Days_Joined to int format\n",
        "df['Days_Customer'] = df['Days_Customer'].dt.days.astype('int16')"
      ]
    },
    {
      "cell_type": "code",
      "execution_count": 19,
      "id": "fde0b990",
      "metadata": {
        "ExecuteTime": {
          "end_time": "2023-05-26T04:26:48.278985Z",
          "start_time": "2023-05-26T04:26:48.209648Z"
        },
        "colab": {
          "base_uri": "https://localhost:8080/",
          "height": 340
        },
        "id": "fde0b990",
        "outputId": "4e87e9d6-0071-46d3-9058-5d0c824bea76"
      },
      "outputs": [
        {
          "output_type": "stream",
          "name": "stdout",
          "text": [
            "(2240, 37)\n"
          ]
        },
        {
          "output_type": "execute_result",
          "data": {
            "text/plain": [
              "       Education Marital_Status   Income  Kidhome  Teenhome  Recency  \\\n",
              "463   Graduation        Married  80124.0        0         0       47   \n",
              "1524  Graduation         Single   3502.0        1         0       56   \n",
              "1829      Master       Together  22669.0        1         0       30   \n",
              "1451  Graduation        Married  77343.0        0         0       28   \n",
              "1987  Graduation        Married  51373.0        0         0       37   \n",
              "\n",
              "      MntWines  MntFruits  MntMeatProducts  MntFishProducts  MntSweetProducts  \\\n",
              "463        483         84              398              205                84   \n",
              "1524         2          1                1                0                 0   \n",
              "1829        16         14               36               37                22   \n",
              "1451       227        151              573               98                54   \n",
              "1987        83          2              101               64                26   \n",
              "\n",
              "      MntGoldProducts  NumDealsPurchases  NumWebPurchases  \\\n",
              "463               241                  1                3   \n",
              "1524                1                  0                0   \n",
              "1829               48                  3                4   \n",
              "1451               31                  1                3   \n",
              "1987              117                  1                3   \n",
              "\n",
              "      NumCatalogPurchases  NumStorePurchases  NumWebVisitsMonth  AcceptedCmp3  \\\n",
              "463                     7                  8                  1             1   \n",
              "1524                    0                  0                 14             0   \n",
              "1829                    1                  2                  9             0   \n",
              "1451                    4                  9                  1             0   \n",
              "1987                    5                  3                  4             0   \n",
              "\n",
              "      AcceptedCmp4  AcceptedCmp5  AcceptedCmp1  AcceptedCmp2  Complain  \\\n",
              "463              0             0             0             0         0   \n",
              "1524             0             0             0             0         0   \n",
              "1829             0             0             0             0         0   \n",
              "1451             0             0             0             0         0   \n",
              "1987             0             0             0             0         0   \n",
              "\n",
              "      Response  Age  Years_Customer  Days_Customer  TotalMntSpent  \\\n",
              "463          0   51               0            163           1495   \n",
              "1524         0   41               1            602              5   \n",
              "1829         1   39               1            563            173   \n",
              "1451         0   49               0             91           1134   \n",
              "1987         0   23               1            532            393   \n",
              "\n",
              "      TotalNumPurchases  Total_Acc_Cmp  Year_Joined Month_Joined Day_Joined  \\\n",
              "463                  19              1         2014         June   Thursday   \n",
              "1524                  0              0         2013        April   Saturday   \n",
              "1829                 10              1         2013          May  Wednesday   \n",
              "1451                 17              0         2014    September   Saturday   \n",
              "1987                 12              0         2013         June   Saturday   \n",
              "\n",
              "        Age_Group  Children Partner Education_Level  \n",
              "463   Middel Aged         0     Yes        Graduate  \n",
              "1524        Adult         1      No        Graduate  \n",
              "1829        Adult         1     Yes    Postgraduate  \n",
              "1451  Middel Aged         0     Yes        Graduate  \n",
              "1987  Young adult         0     Yes        Graduate  "
            ],
            "text/html": [
              "\n",
              "  <div id=\"df-7fc5bdbf-7d6a-4bda-af0c-a41c15324035\">\n",
              "    <div class=\"colab-df-container\">\n",
              "      <div>\n",
              "<style scoped>\n",
              "    .dataframe tbody tr th:only-of-type {\n",
              "        vertical-align: middle;\n",
              "    }\n",
              "\n",
              "    .dataframe tbody tr th {\n",
              "        vertical-align: top;\n",
              "    }\n",
              "\n",
              "    .dataframe thead th {\n",
              "        text-align: right;\n",
              "    }\n",
              "</style>\n",
              "<table border=\"1\" class=\"dataframe\">\n",
              "  <thead>\n",
              "    <tr style=\"text-align: right;\">\n",
              "      <th></th>\n",
              "      <th>Education</th>\n",
              "      <th>Marital_Status</th>\n",
              "      <th>Income</th>\n",
              "      <th>Kidhome</th>\n",
              "      <th>Teenhome</th>\n",
              "      <th>Recency</th>\n",
              "      <th>MntWines</th>\n",
              "      <th>MntFruits</th>\n",
              "      <th>MntMeatProducts</th>\n",
              "      <th>MntFishProducts</th>\n",
              "      <th>MntSweetProducts</th>\n",
              "      <th>MntGoldProducts</th>\n",
              "      <th>NumDealsPurchases</th>\n",
              "      <th>NumWebPurchases</th>\n",
              "      <th>NumCatalogPurchases</th>\n",
              "      <th>NumStorePurchases</th>\n",
              "      <th>NumWebVisitsMonth</th>\n",
              "      <th>AcceptedCmp3</th>\n",
              "      <th>AcceptedCmp4</th>\n",
              "      <th>AcceptedCmp5</th>\n",
              "      <th>AcceptedCmp1</th>\n",
              "      <th>AcceptedCmp2</th>\n",
              "      <th>Complain</th>\n",
              "      <th>Response</th>\n",
              "      <th>Age</th>\n",
              "      <th>Years_Customer</th>\n",
              "      <th>Days_Customer</th>\n",
              "      <th>TotalMntSpent</th>\n",
              "      <th>TotalNumPurchases</th>\n",
              "      <th>Total_Acc_Cmp</th>\n",
              "      <th>Year_Joined</th>\n",
              "      <th>Month_Joined</th>\n",
              "      <th>Day_Joined</th>\n",
              "      <th>Age_Group</th>\n",
              "      <th>Children</th>\n",
              "      <th>Partner</th>\n",
              "      <th>Education_Level</th>\n",
              "    </tr>\n",
              "  </thead>\n",
              "  <tbody>\n",
              "    <tr>\n",
              "      <th>463</th>\n",
              "      <td>Graduation</td>\n",
              "      <td>Married</td>\n",
              "      <td>80124.0</td>\n",
              "      <td>0</td>\n",
              "      <td>0</td>\n",
              "      <td>47</td>\n",
              "      <td>483</td>\n",
              "      <td>84</td>\n",
              "      <td>398</td>\n",
              "      <td>205</td>\n",
              "      <td>84</td>\n",
              "      <td>241</td>\n",
              "      <td>1</td>\n",
              "      <td>3</td>\n",
              "      <td>7</td>\n",
              "      <td>8</td>\n",
              "      <td>1</td>\n",
              "      <td>1</td>\n",
              "      <td>0</td>\n",
              "      <td>0</td>\n",
              "      <td>0</td>\n",
              "      <td>0</td>\n",
              "      <td>0</td>\n",
              "      <td>0</td>\n",
              "      <td>51</td>\n",
              "      <td>0</td>\n",
              "      <td>163</td>\n",
              "      <td>1495</td>\n",
              "      <td>19</td>\n",
              "      <td>1</td>\n",
              "      <td>2014</td>\n",
              "      <td>June</td>\n",
              "      <td>Thursday</td>\n",
              "      <td>Middel Aged</td>\n",
              "      <td>0</td>\n",
              "      <td>Yes</td>\n",
              "      <td>Graduate</td>\n",
              "    </tr>\n",
              "    <tr>\n",
              "      <th>1524</th>\n",
              "      <td>Graduation</td>\n",
              "      <td>Single</td>\n",
              "      <td>3502.0</td>\n",
              "      <td>1</td>\n",
              "      <td>0</td>\n",
              "      <td>56</td>\n",
              "      <td>2</td>\n",
              "      <td>1</td>\n",
              "      <td>1</td>\n",
              "      <td>0</td>\n",
              "      <td>0</td>\n",
              "      <td>1</td>\n",
              "      <td>0</td>\n",
              "      <td>0</td>\n",
              "      <td>0</td>\n",
              "      <td>0</td>\n",
              "      <td>14</td>\n",
              "      <td>0</td>\n",
              "      <td>0</td>\n",
              "      <td>0</td>\n",
              "      <td>0</td>\n",
              "      <td>0</td>\n",
              "      <td>0</td>\n",
              "      <td>0</td>\n",
              "      <td>41</td>\n",
              "      <td>1</td>\n",
              "      <td>602</td>\n",
              "      <td>5</td>\n",
              "      <td>0</td>\n",
              "      <td>0</td>\n",
              "      <td>2013</td>\n",
              "      <td>April</td>\n",
              "      <td>Saturday</td>\n",
              "      <td>Adult</td>\n",
              "      <td>1</td>\n",
              "      <td>No</td>\n",
              "      <td>Graduate</td>\n",
              "    </tr>\n",
              "    <tr>\n",
              "      <th>1829</th>\n",
              "      <td>Master</td>\n",
              "      <td>Together</td>\n",
              "      <td>22669.0</td>\n",
              "      <td>1</td>\n",
              "      <td>0</td>\n",
              "      <td>30</td>\n",
              "      <td>16</td>\n",
              "      <td>14</td>\n",
              "      <td>36</td>\n",
              "      <td>37</td>\n",
              "      <td>22</td>\n",
              "      <td>48</td>\n",
              "      <td>3</td>\n",
              "      <td>4</td>\n",
              "      <td>1</td>\n",
              "      <td>2</td>\n",
              "      <td>9</td>\n",
              "      <td>0</td>\n",
              "      <td>0</td>\n",
              "      <td>0</td>\n",
              "      <td>0</td>\n",
              "      <td>0</td>\n",
              "      <td>0</td>\n",
              "      <td>1</td>\n",
              "      <td>39</td>\n",
              "      <td>1</td>\n",
              "      <td>563</td>\n",
              "      <td>173</td>\n",
              "      <td>10</td>\n",
              "      <td>1</td>\n",
              "      <td>2013</td>\n",
              "      <td>May</td>\n",
              "      <td>Wednesday</td>\n",
              "      <td>Adult</td>\n",
              "      <td>1</td>\n",
              "      <td>Yes</td>\n",
              "      <td>Postgraduate</td>\n",
              "    </tr>\n",
              "    <tr>\n",
              "      <th>1451</th>\n",
              "      <td>Graduation</td>\n",
              "      <td>Married</td>\n",
              "      <td>77343.0</td>\n",
              "      <td>0</td>\n",
              "      <td>0</td>\n",
              "      <td>28</td>\n",
              "      <td>227</td>\n",
              "      <td>151</td>\n",
              "      <td>573</td>\n",
              "      <td>98</td>\n",
              "      <td>54</td>\n",
              "      <td>31</td>\n",
              "      <td>1</td>\n",
              "      <td>3</td>\n",
              "      <td>4</td>\n",
              "      <td>9</td>\n",
              "      <td>1</td>\n",
              "      <td>0</td>\n",
              "      <td>0</td>\n",
              "      <td>0</td>\n",
              "      <td>0</td>\n",
              "      <td>0</td>\n",
              "      <td>0</td>\n",
              "      <td>0</td>\n",
              "      <td>49</td>\n",
              "      <td>0</td>\n",
              "      <td>91</td>\n",
              "      <td>1134</td>\n",
              "      <td>17</td>\n",
              "      <td>0</td>\n",
              "      <td>2014</td>\n",
              "      <td>September</td>\n",
              "      <td>Saturday</td>\n",
              "      <td>Middel Aged</td>\n",
              "      <td>0</td>\n",
              "      <td>Yes</td>\n",
              "      <td>Graduate</td>\n",
              "    </tr>\n",
              "    <tr>\n",
              "      <th>1987</th>\n",
              "      <td>Graduation</td>\n",
              "      <td>Married</td>\n",
              "      <td>51373.0</td>\n",
              "      <td>0</td>\n",
              "      <td>0</td>\n",
              "      <td>37</td>\n",
              "      <td>83</td>\n",
              "      <td>2</td>\n",
              "      <td>101</td>\n",
              "      <td>64</td>\n",
              "      <td>26</td>\n",
              "      <td>117</td>\n",
              "      <td>1</td>\n",
              "      <td>3</td>\n",
              "      <td>5</td>\n",
              "      <td>3</td>\n",
              "      <td>4</td>\n",
              "      <td>0</td>\n",
              "      <td>0</td>\n",
              "      <td>0</td>\n",
              "      <td>0</td>\n",
              "      <td>0</td>\n",
              "      <td>0</td>\n",
              "      <td>0</td>\n",
              "      <td>23</td>\n",
              "      <td>1</td>\n",
              "      <td>532</td>\n",
              "      <td>393</td>\n",
              "      <td>12</td>\n",
              "      <td>0</td>\n",
              "      <td>2013</td>\n",
              "      <td>June</td>\n",
              "      <td>Saturday</td>\n",
              "      <td>Young adult</td>\n",
              "      <td>0</td>\n",
              "      <td>Yes</td>\n",
              "      <td>Graduate</td>\n",
              "    </tr>\n",
              "  </tbody>\n",
              "</table>\n",
              "</div>\n",
              "      <button class=\"colab-df-convert\" onclick=\"convertToInteractive('df-7fc5bdbf-7d6a-4bda-af0c-a41c15324035')\"\n",
              "              title=\"Convert this dataframe to an interactive table.\"\n",
              "              style=\"display:none;\">\n",
              "        \n",
              "  <svg xmlns=\"http://www.w3.org/2000/svg\" height=\"24px\"viewBox=\"0 0 24 24\"\n",
              "       width=\"24px\">\n",
              "    <path d=\"M0 0h24v24H0V0z\" fill=\"none\"/>\n",
              "    <path d=\"M18.56 5.44l.94 2.06.94-2.06 2.06-.94-2.06-.94-.94-2.06-.94 2.06-2.06.94zm-11 1L8.5 8.5l.94-2.06 2.06-.94-2.06-.94L8.5 2.5l-.94 2.06-2.06.94zm10 10l.94 2.06.94-2.06 2.06-.94-2.06-.94-.94-2.06-.94 2.06-2.06.94z\"/><path d=\"M17.41 7.96l-1.37-1.37c-.4-.4-.92-.59-1.43-.59-.52 0-1.04.2-1.43.59L10.3 9.45l-7.72 7.72c-.78.78-.78 2.05 0 2.83L4 21.41c.39.39.9.59 1.41.59.51 0 1.02-.2 1.41-.59l7.78-7.78 2.81-2.81c.8-.78.8-2.07 0-2.86zM5.41 20L4 18.59l7.72-7.72 1.47 1.35L5.41 20z\"/>\n",
              "  </svg>\n",
              "      </button>\n",
              "      \n",
              "  <style>\n",
              "    .colab-df-container {\n",
              "      display:flex;\n",
              "      flex-wrap:wrap;\n",
              "      gap: 12px;\n",
              "    }\n",
              "\n",
              "    .colab-df-convert {\n",
              "      background-color: #E8F0FE;\n",
              "      border: none;\n",
              "      border-radius: 50%;\n",
              "      cursor: pointer;\n",
              "      display: none;\n",
              "      fill: #1967D2;\n",
              "      height: 32px;\n",
              "      padding: 0 0 0 0;\n",
              "      width: 32px;\n",
              "    }\n",
              "\n",
              "    .colab-df-convert:hover {\n",
              "      background-color: #E2EBFA;\n",
              "      box-shadow: 0px 1px 2px rgba(60, 64, 67, 0.3), 0px 1px 3px 1px rgba(60, 64, 67, 0.15);\n",
              "      fill: #174EA6;\n",
              "    }\n",
              "\n",
              "    [theme=dark] .colab-df-convert {\n",
              "      background-color: #3B4455;\n",
              "      fill: #D2E3FC;\n",
              "    }\n",
              "\n",
              "    [theme=dark] .colab-df-convert:hover {\n",
              "      background-color: #434B5C;\n",
              "      box-shadow: 0px 1px 3px 1px rgba(0, 0, 0, 0.15);\n",
              "      filter: drop-shadow(0px 1px 2px rgba(0, 0, 0, 0.3));\n",
              "      fill: #FFFFFF;\n",
              "    }\n",
              "  </style>\n",
              "\n",
              "      <script>\n",
              "        const buttonEl =\n",
              "          document.querySelector('#df-7fc5bdbf-7d6a-4bda-af0c-a41c15324035 button.colab-df-convert');\n",
              "        buttonEl.style.display =\n",
              "          google.colab.kernel.accessAllowed ? 'block' : 'none';\n",
              "\n",
              "        async function convertToInteractive(key) {\n",
              "          const element = document.querySelector('#df-7fc5bdbf-7d6a-4bda-af0c-a41c15324035');\n",
              "          const dataTable =\n",
              "            await google.colab.kernel.invokeFunction('convertToInteractive',\n",
              "                                                     [key], {});\n",
              "          if (!dataTable) return;\n",
              "\n",
              "          const docLinkHtml = 'Like what you see? Visit the ' +\n",
              "            '<a target=\"_blank\" href=https://colab.research.google.com/notebooks/data_table.ipynb>data table notebook</a>'\n",
              "            + ' to learn more about interactive tables.';\n",
              "          element.innerHTML = '';\n",
              "          dataTable['output_type'] = 'display_data';\n",
              "          await google.colab.output.renderOutput(dataTable, element);\n",
              "          const docLink = document.createElement('div');\n",
              "          docLink.innerHTML = docLinkHtml;\n",
              "          element.appendChild(docLink);\n",
              "        }\n",
              "      </script>\n",
              "    </div>\n",
              "  </div>\n",
              "  "
            ]
          },
          "metadata": {},
          "execution_count": 19
        }
      ],
      "source": [
        "print(df.shape)\n",
        "df.sample(5)"
      ]
    },
    {
      "cell_type": "code",
      "execution_count": 20,
      "id": "d7e655fc",
      "metadata": {
        "ExecuteTime": {
          "end_time": "2023-05-26T04:26:48.304696Z",
          "start_time": "2023-05-26T04:26:48.283526Z"
        },
        "id": "d7e655fc"
      },
      "outputs": [],
      "source": [
        "df1 = df.copy() # make a copy\n",
        "df1.drop(['Education','Marital_Status','Years_Customer','Year_Joined','Month_Joined','Day_Joined'], axis=1, inplace=True)"
      ]
    },
    {
      "cell_type": "code",
      "execution_count": 21,
      "id": "ebf95073",
      "metadata": {
        "ExecuteTime": {
          "end_time": "2023-05-26T04:26:48.323382Z",
          "start_time": "2023-05-26T04:26:48.310187Z"
        },
        "id": "ebf95073"
      },
      "outputs": [],
      "source": [
        "num_col = df1.select_dtypes(include = np.number).columns"
      ]
    },
    {
      "cell_type": "code",
      "execution_count": 22,
      "id": "78477ce1",
      "metadata": {
        "ExecuteTime": {
          "end_time": "2023-05-26T04:26:52.148350Z",
          "start_time": "2023-05-26T04:26:48.329218Z"
        },
        "colab": {
          "base_uri": "https://localhost:8080/"
        },
        "id": "78477ce1",
        "outputId": "e1319809-ae1a-41e1-db75-978ecf3d4a6e"
      },
      "outputs": [
        {
          "output_type": "stream",
          "name": "stdout",
          "text": [
            "Outliers have been taken care of\n"
          ]
        }
      ],
      "source": [
        "for col in num_col:\n",
        "    q1 = df1[col].quantile(0.25)\n",
        "    q3 = df1[col].quantile(0.75)\n",
        "    iqr = q3-q1\n",
        "    ll = q1-(1.5*iqr)\n",
        "    ul = q3+(1.5*iqr)\n",
        "    for ind in df1[col].index:\n",
        "        if df1.loc[ind,col]>ul:\n",
        "            df1.loc[ind,col]=ul\n",
        "        elif df1.loc[ind,col]<ll:\n",
        "            df1.loc[ind,col]=ll\n",
        "        else:\n",
        "            pass\n",
        "print(\"Outliers have been taken care of\")"
      ]
    },
    {
      "cell_type": "markdown",
      "id": "f1408abe",
      "metadata": {
        "id": "f1408abe"
      },
      "source": [
        "# FEATURE TRANSFORMATION"
      ]
    },
    {
      "cell_type": "code",
      "execution_count": 23,
      "id": "f1777aef",
      "metadata": {
        "ExecuteTime": {
          "end_time": "2023-05-26T04:26:52.199640Z",
          "start_time": "2023-05-26T04:26:52.150347Z"
        },
        "colab": {
          "base_uri": "https://localhost:8080/",
          "height": 224
        },
        "id": "f1777aef",
        "outputId": "52863607-db68-4b75-e3ea-7bdecd3f4cdd"
      },
      "outputs": [
        {
          "output_type": "stream",
          "name": "stdout",
          "text": [
            "This is the data we will use for clustering:\n"
          ]
        },
        {
          "output_type": "execute_result",
          "data": {
            "text/plain": [
              "    Income  Kidhome  Teenhome  Age Partner Education_Level\n",
              "0  58138.0        0         0   57      No        Graduate\n",
              "1  46344.0        1         1   60      No        Graduate\n",
              "2  71613.0        0         0   49     Yes        Graduate\n",
              "3  26646.0        1         0   30     Yes        Graduate\n",
              "4  58293.0        1         0   33     Yes    Postgraduate"
            ],
            "text/html": [
              "\n",
              "  <div id=\"df-c20fae3f-5a1a-4545-9a7a-8a8fbd62de83\">\n",
              "    <div class=\"colab-df-container\">\n",
              "      <div>\n",
              "<style scoped>\n",
              "    .dataframe tbody tr th:only-of-type {\n",
              "        vertical-align: middle;\n",
              "    }\n",
              "\n",
              "    .dataframe tbody tr th {\n",
              "        vertical-align: top;\n",
              "    }\n",
              "\n",
              "    .dataframe thead th {\n",
              "        text-align: right;\n",
              "    }\n",
              "</style>\n",
              "<table border=\"1\" class=\"dataframe\">\n",
              "  <thead>\n",
              "    <tr style=\"text-align: right;\">\n",
              "      <th></th>\n",
              "      <th>Income</th>\n",
              "      <th>Kidhome</th>\n",
              "      <th>Teenhome</th>\n",
              "      <th>Age</th>\n",
              "      <th>Partner</th>\n",
              "      <th>Education_Level</th>\n",
              "    </tr>\n",
              "  </thead>\n",
              "  <tbody>\n",
              "    <tr>\n",
              "      <th>0</th>\n",
              "      <td>58138.0</td>\n",
              "      <td>0</td>\n",
              "      <td>0</td>\n",
              "      <td>57</td>\n",
              "      <td>No</td>\n",
              "      <td>Graduate</td>\n",
              "    </tr>\n",
              "    <tr>\n",
              "      <th>1</th>\n",
              "      <td>46344.0</td>\n",
              "      <td>1</td>\n",
              "      <td>1</td>\n",
              "      <td>60</td>\n",
              "      <td>No</td>\n",
              "      <td>Graduate</td>\n",
              "    </tr>\n",
              "    <tr>\n",
              "      <th>2</th>\n",
              "      <td>71613.0</td>\n",
              "      <td>0</td>\n",
              "      <td>0</td>\n",
              "      <td>49</td>\n",
              "      <td>Yes</td>\n",
              "      <td>Graduate</td>\n",
              "    </tr>\n",
              "    <tr>\n",
              "      <th>3</th>\n",
              "      <td>26646.0</td>\n",
              "      <td>1</td>\n",
              "      <td>0</td>\n",
              "      <td>30</td>\n",
              "      <td>Yes</td>\n",
              "      <td>Graduate</td>\n",
              "    </tr>\n",
              "    <tr>\n",
              "      <th>4</th>\n",
              "      <td>58293.0</td>\n",
              "      <td>1</td>\n",
              "      <td>0</td>\n",
              "      <td>33</td>\n",
              "      <td>Yes</td>\n",
              "      <td>Postgraduate</td>\n",
              "    </tr>\n",
              "  </tbody>\n",
              "</table>\n",
              "</div>\n",
              "      <button class=\"colab-df-convert\" onclick=\"convertToInteractive('df-c20fae3f-5a1a-4545-9a7a-8a8fbd62de83')\"\n",
              "              title=\"Convert this dataframe to an interactive table.\"\n",
              "              style=\"display:none;\">\n",
              "        \n",
              "  <svg xmlns=\"http://www.w3.org/2000/svg\" height=\"24px\"viewBox=\"0 0 24 24\"\n",
              "       width=\"24px\">\n",
              "    <path d=\"M0 0h24v24H0V0z\" fill=\"none\"/>\n",
              "    <path d=\"M18.56 5.44l.94 2.06.94-2.06 2.06-.94-2.06-.94-.94-2.06-.94 2.06-2.06.94zm-11 1L8.5 8.5l.94-2.06 2.06-.94-2.06-.94L8.5 2.5l-.94 2.06-2.06.94zm10 10l.94 2.06.94-2.06 2.06-.94-2.06-.94-.94-2.06-.94 2.06-2.06.94z\"/><path d=\"M17.41 7.96l-1.37-1.37c-.4-.4-.92-.59-1.43-.59-.52 0-1.04.2-1.43.59L10.3 9.45l-7.72 7.72c-.78.78-.78 2.05 0 2.83L4 21.41c.39.39.9.59 1.41.59.51 0 1.02-.2 1.41-.59l7.78-7.78 2.81-2.81c.8-.78.8-2.07 0-2.86zM5.41 20L4 18.59l7.72-7.72 1.47 1.35L5.41 20z\"/>\n",
              "  </svg>\n",
              "      </button>\n",
              "      \n",
              "  <style>\n",
              "    .colab-df-container {\n",
              "      display:flex;\n",
              "      flex-wrap:wrap;\n",
              "      gap: 12px;\n",
              "    }\n",
              "\n",
              "    .colab-df-convert {\n",
              "      background-color: #E8F0FE;\n",
              "      border: none;\n",
              "      border-radius: 50%;\n",
              "      cursor: pointer;\n",
              "      display: none;\n",
              "      fill: #1967D2;\n",
              "      height: 32px;\n",
              "      padding: 0 0 0 0;\n",
              "      width: 32px;\n",
              "    }\n",
              "\n",
              "    .colab-df-convert:hover {\n",
              "      background-color: #E2EBFA;\n",
              "      box-shadow: 0px 1px 2px rgba(60, 64, 67, 0.3), 0px 1px 3px 1px rgba(60, 64, 67, 0.15);\n",
              "      fill: #174EA6;\n",
              "    }\n",
              "\n",
              "    [theme=dark] .colab-df-convert {\n",
              "      background-color: #3B4455;\n",
              "      fill: #D2E3FC;\n",
              "    }\n",
              "\n",
              "    [theme=dark] .colab-df-convert:hover {\n",
              "      background-color: #434B5C;\n",
              "      box-shadow: 0px 1px 3px 1px rgba(0, 0, 0, 0.15);\n",
              "      filter: drop-shadow(0px 1px 2px rgba(0, 0, 0, 0.3));\n",
              "      fill: #FFFFFF;\n",
              "    }\n",
              "  </style>\n",
              "\n",
              "      <script>\n",
              "        const buttonEl =\n",
              "          document.querySelector('#df-c20fae3f-5a1a-4545-9a7a-8a8fbd62de83 button.colab-df-convert');\n",
              "        buttonEl.style.display =\n",
              "          google.colab.kernel.accessAllowed ? 'block' : 'none';\n",
              "\n",
              "        async function convertToInteractive(key) {\n",
              "          const element = document.querySelector('#df-c20fae3f-5a1a-4545-9a7a-8a8fbd62de83');\n",
              "          const dataTable =\n",
              "            await google.colab.kernel.invokeFunction('convertToInteractive',\n",
              "                                                     [key], {});\n",
              "          if (!dataTable) return;\n",
              "\n",
              "          const docLinkHtml = 'Like what you see? Visit the ' +\n",
              "            '<a target=\"_blank\" href=https://colab.research.google.com/notebooks/data_table.ipynb>data table notebook</a>'\n",
              "            + ' to learn more about interactive tables.';\n",
              "          element.innerHTML = '';\n",
              "          dataTable['output_type'] = 'display_data';\n",
              "          await google.colab.output.renderOutput(dataTable, element);\n",
              "          const docLink = document.createElement('div');\n",
              "          docLink.innerHTML = docLinkHtml;\n",
              "          element.appendChild(docLink);\n",
              "        }\n",
              "      </script>\n",
              "    </div>\n",
              "  </div>\n",
              "  "
            ]
          },
          "metadata": {},
          "execution_count": 23
        }
      ],
      "source": [
        "# selecting the cols to use\n",
        "subset = df1[['Income','Kidhome','Teenhome','Age','Partner','Education_Level']]\n",
        "print('This is the data we will use for clustering:')\n",
        "subset.head()"
      ]
    },
    {
      "cell_type": "code",
      "execution_count": 24,
      "id": "472b53d4",
      "metadata": {
        "ExecuteTime": {
          "end_time": "2023-05-26T04:26:52.275492Z",
          "start_time": "2023-05-26T04:26:52.207973Z"
        },
        "colab": {
          "base_uri": "https://localhost:8080/",
          "height": 300
        },
        "id": "472b53d4",
        "outputId": "812d5653-4bdf-4485-a65c-4f500793be34"
      },
      "outputs": [
        {
          "output_type": "execute_result",
          "data": {
            "text/plain": [
              "              Income      Kidhome     Teenhome          Age\n",
              "count    2240.000000  2240.000000  2240.000000  2240.000000\n",
              "mean    51865.874554     0.444196     0.506250    45.147768\n",
              "std     20936.104821     0.538398     0.544538    11.771725\n",
              "min      1730.000000     0.000000     0.000000    18.000000\n",
              "25%     35538.750000     0.000000     0.000000    37.000000\n",
              "50%     51381.500000     0.000000     0.000000    44.000000\n",
              "75%     68289.750000     1.000000     1.000000    55.000000\n",
              "max    117416.250000     2.000000     2.000000    82.000000"
            ],
            "text/html": [
              "\n",
              "  <div id=\"df-90986492-89b4-402a-8ce3-6870b0fc87ad\">\n",
              "    <div class=\"colab-df-container\">\n",
              "      <div>\n",
              "<style scoped>\n",
              "    .dataframe tbody tr th:only-of-type {\n",
              "        vertical-align: middle;\n",
              "    }\n",
              "\n",
              "    .dataframe tbody tr th {\n",
              "        vertical-align: top;\n",
              "    }\n",
              "\n",
              "    .dataframe thead th {\n",
              "        text-align: right;\n",
              "    }\n",
              "</style>\n",
              "<table border=\"1\" class=\"dataframe\">\n",
              "  <thead>\n",
              "    <tr style=\"text-align: right;\">\n",
              "      <th></th>\n",
              "      <th>Income</th>\n",
              "      <th>Kidhome</th>\n",
              "      <th>Teenhome</th>\n",
              "      <th>Age</th>\n",
              "    </tr>\n",
              "  </thead>\n",
              "  <tbody>\n",
              "    <tr>\n",
              "      <th>count</th>\n",
              "      <td>2240.000000</td>\n",
              "      <td>2240.000000</td>\n",
              "      <td>2240.000000</td>\n",
              "      <td>2240.000000</td>\n",
              "    </tr>\n",
              "    <tr>\n",
              "      <th>mean</th>\n",
              "      <td>51865.874554</td>\n",
              "      <td>0.444196</td>\n",
              "      <td>0.506250</td>\n",
              "      <td>45.147768</td>\n",
              "    </tr>\n",
              "    <tr>\n",
              "      <th>std</th>\n",
              "      <td>20936.104821</td>\n",
              "      <td>0.538398</td>\n",
              "      <td>0.544538</td>\n",
              "      <td>11.771725</td>\n",
              "    </tr>\n",
              "    <tr>\n",
              "      <th>min</th>\n",
              "      <td>1730.000000</td>\n",
              "      <td>0.000000</td>\n",
              "      <td>0.000000</td>\n",
              "      <td>18.000000</td>\n",
              "    </tr>\n",
              "    <tr>\n",
              "      <th>25%</th>\n",
              "      <td>35538.750000</td>\n",
              "      <td>0.000000</td>\n",
              "      <td>0.000000</td>\n",
              "      <td>37.000000</td>\n",
              "    </tr>\n",
              "    <tr>\n",
              "      <th>50%</th>\n",
              "      <td>51381.500000</td>\n",
              "      <td>0.000000</td>\n",
              "      <td>0.000000</td>\n",
              "      <td>44.000000</td>\n",
              "    </tr>\n",
              "    <tr>\n",
              "      <th>75%</th>\n",
              "      <td>68289.750000</td>\n",
              "      <td>1.000000</td>\n",
              "      <td>1.000000</td>\n",
              "      <td>55.000000</td>\n",
              "    </tr>\n",
              "    <tr>\n",
              "      <th>max</th>\n",
              "      <td>117416.250000</td>\n",
              "      <td>2.000000</td>\n",
              "      <td>2.000000</td>\n",
              "      <td>82.000000</td>\n",
              "    </tr>\n",
              "  </tbody>\n",
              "</table>\n",
              "</div>\n",
              "      <button class=\"colab-df-convert\" onclick=\"convertToInteractive('df-90986492-89b4-402a-8ce3-6870b0fc87ad')\"\n",
              "              title=\"Convert this dataframe to an interactive table.\"\n",
              "              style=\"display:none;\">\n",
              "        \n",
              "  <svg xmlns=\"http://www.w3.org/2000/svg\" height=\"24px\"viewBox=\"0 0 24 24\"\n",
              "       width=\"24px\">\n",
              "    <path d=\"M0 0h24v24H0V0z\" fill=\"none\"/>\n",
              "    <path d=\"M18.56 5.44l.94 2.06.94-2.06 2.06-.94-2.06-.94-.94-2.06-.94 2.06-2.06.94zm-11 1L8.5 8.5l.94-2.06 2.06-.94-2.06-.94L8.5 2.5l-.94 2.06-2.06.94zm10 10l.94 2.06.94-2.06 2.06-.94-2.06-.94-.94-2.06-.94 2.06-2.06.94z\"/><path d=\"M17.41 7.96l-1.37-1.37c-.4-.4-.92-.59-1.43-.59-.52 0-1.04.2-1.43.59L10.3 9.45l-7.72 7.72c-.78.78-.78 2.05 0 2.83L4 21.41c.39.39.9.59 1.41.59.51 0 1.02-.2 1.41-.59l7.78-7.78 2.81-2.81c.8-.78.8-2.07 0-2.86zM5.41 20L4 18.59l7.72-7.72 1.47 1.35L5.41 20z\"/>\n",
              "  </svg>\n",
              "      </button>\n",
              "      \n",
              "  <style>\n",
              "    .colab-df-container {\n",
              "      display:flex;\n",
              "      flex-wrap:wrap;\n",
              "      gap: 12px;\n",
              "    }\n",
              "\n",
              "    .colab-df-convert {\n",
              "      background-color: #E8F0FE;\n",
              "      border: none;\n",
              "      border-radius: 50%;\n",
              "      cursor: pointer;\n",
              "      display: none;\n",
              "      fill: #1967D2;\n",
              "      height: 32px;\n",
              "      padding: 0 0 0 0;\n",
              "      width: 32px;\n",
              "    }\n",
              "\n",
              "    .colab-df-convert:hover {\n",
              "      background-color: #E2EBFA;\n",
              "      box-shadow: 0px 1px 2px rgba(60, 64, 67, 0.3), 0px 1px 3px 1px rgba(60, 64, 67, 0.15);\n",
              "      fill: #174EA6;\n",
              "    }\n",
              "\n",
              "    [theme=dark] .colab-df-convert {\n",
              "      background-color: #3B4455;\n",
              "      fill: #D2E3FC;\n",
              "    }\n",
              "\n",
              "    [theme=dark] .colab-df-convert:hover {\n",
              "      background-color: #434B5C;\n",
              "      box-shadow: 0px 1px 3px 1px rgba(0, 0, 0, 0.15);\n",
              "      filter: drop-shadow(0px 1px 2px rgba(0, 0, 0, 0.3));\n",
              "      fill: #FFFFFF;\n",
              "    }\n",
              "  </style>\n",
              "\n",
              "      <script>\n",
              "        const buttonEl =\n",
              "          document.querySelector('#df-90986492-89b4-402a-8ce3-6870b0fc87ad button.colab-df-convert');\n",
              "        buttonEl.style.display =\n",
              "          google.colab.kernel.accessAllowed ? 'block' : 'none';\n",
              "\n",
              "        async function convertToInteractive(key) {\n",
              "          const element = document.querySelector('#df-90986492-89b4-402a-8ce3-6870b0fc87ad');\n",
              "          const dataTable =\n",
              "            await google.colab.kernel.invokeFunction('convertToInteractive',\n",
              "                                                     [key], {});\n",
              "          if (!dataTable) return;\n",
              "\n",
              "          const docLinkHtml = 'Like what you see? Visit the ' +\n",
              "            '<a target=\"_blank\" href=https://colab.research.google.com/notebooks/data_table.ipynb>data table notebook</a>'\n",
              "            + ' to learn more about interactive tables.';\n",
              "          element.innerHTML = '';\n",
              "          dataTable['output_type'] = 'display_data';\n",
              "          await google.colab.output.renderOutput(dataTable, element);\n",
              "          const docLink = document.createElement('div');\n",
              "          docLink.innerHTML = docLinkHtml;\n",
              "          element.appendChild(docLink);\n",
              "        }\n",
              "      </script>\n",
              "    </div>\n",
              "  </div>\n",
              "  "
            ]
          },
          "metadata": {},
          "execution_count": 24
        }
      ],
      "source": [
        "# examin the min, max and mean of your columns\n",
        "subset.describe()"
      ]
    },
    {
      "cell_type": "code",
      "execution_count": 25,
      "id": "fcc79b33",
      "metadata": {
        "ExecuteTime": {
          "end_time": "2023-05-26T04:26:52.294497Z",
          "start_time": "2023-05-26T04:26:52.279320Z"
        },
        "id": "fcc79b33"
      },
      "outputs": [],
      "source": [
        "# Importing essential libraries for bulding pipeline\n",
        "from sklearn.pipeline import make_pipeline\n",
        "from sklearn.compose import ColumnTransformer"
      ]
    },
    {
      "cell_type": "code",
      "execution_count": 26,
      "id": "b7ed1061",
      "metadata": {
        "ExecuteTime": {
          "end_time": "2023-05-26T04:26:52.314669Z",
          "start_time": "2023-05-26T04:26:52.297142Z"
        },
        "id": "b7ed1061"
      },
      "outputs": [],
      "source": [
        "# I am not scaling the kidhome, teenhome cols, cause thire min, max lies between 0 & 2\n",
        "num_cols = ['Income','Age']\n",
        "numeric_pipeline = make_pipeline(StandardScaler())"
      ]
    },
    {
      "cell_type": "code",
      "execution_count": 27,
      "id": "bea22357",
      "metadata": {
        "ExecuteTime": {
          "end_time": "2023-05-26T04:26:52.339030Z",
          "start_time": "2023-05-26T04:26:52.325620Z"
        },
        "id": "bea22357"
      },
      "outputs": [],
      "source": [
        "ord_cols = ['Education_Level']\n",
        "ordinal_pipeline = make_pipeline(OrdinalEncoder(categories=[['Undergraduate','Graduate','Postgraduate']]))"
      ]
    },
    {
      "cell_type": "code",
      "execution_count": 28,
      "id": "1c4b7ec0",
      "metadata": {
        "ExecuteTime": {
          "end_time": "2023-05-26T04:26:52.353167Z",
          "start_time": "2023-05-26T04:26:52.343428Z"
        },
        "id": "1c4b7ec0"
      },
      "outputs": [],
      "source": [
        "nom_cols = ['Partner']\n",
        "nominal_pipeline = make_pipeline(OneHotEncoder())"
      ]
    },
    {
      "cell_type": "code",
      "execution_count": 29,
      "id": "10568922",
      "metadata": {
        "ExecuteTime": {
          "end_time": "2023-05-26T04:26:52.368447Z",
          "start_time": "2023-05-26T04:26:52.357083Z"
        },
        "id": "10568922"
      },
      "outputs": [],
      "source": [
        "# stack your pipelines in column transformer\n",
        "transformer = ColumnTransformer(transformers=[('num',numeric_pipeline,num_cols),\n",
        "                                           ('ordinal', ordinal_pipeline,ord_cols),\n",
        "                                              ('nominal' ,nominal_pipeline,nom_cols)\n",
        "                                             ])"
      ]
    },
    {
      "cell_type": "code",
      "execution_count": 30,
      "id": "3f615a47",
      "metadata": {
        "ExecuteTime": {
          "end_time": "2023-05-26T04:26:52.414852Z",
          "start_time": "2023-05-26T04:26:52.373301Z"
        },
        "colab": {
          "base_uri": "https://localhost:8080/",
          "height": 118
        },
        "id": "3f615a47",
        "outputId": "29ca31d4-7040-4b5e-bfdf-abfa5932df97"
      },
      "outputs": [
        {
          "output_type": "execute_result",
          "data": {
            "text/plain": [
              "ColumnTransformer(transformers=[('num',\n",
              "                                 Pipeline(steps=[('standardscaler',\n",
              "                                                  StandardScaler())]),\n",
              "                                 ['Income', 'Age']),\n",
              "                                ('ordinal',\n",
              "                                 Pipeline(steps=[('ordinalencoder',\n",
              "                                                  OrdinalEncoder(categories=[['Undergraduate',\n",
              "                                                                              'Graduate',\n",
              "                                                                              'Postgraduate']]))]),\n",
              "                                 ['Education_Level']),\n",
              "                                ('nominal',\n",
              "                                 Pipeline(steps=[('onehotencoder',\n",
              "                                                  OneHotEncoder())]),\n",
              "                                 ['Partner'])])"
            ],
            "text/html": [
              "<style>#sk-container-id-1 {color: black;background-color: white;}#sk-container-id-1 pre{padding: 0;}#sk-container-id-1 div.sk-toggleable {background-color: white;}#sk-container-id-1 label.sk-toggleable__label {cursor: pointer;display: block;width: 100%;margin-bottom: 0;padding: 0.3em;box-sizing: border-box;text-align: center;}#sk-container-id-1 label.sk-toggleable__label-arrow:before {content: \"▸\";float: left;margin-right: 0.25em;color: #696969;}#sk-container-id-1 label.sk-toggleable__label-arrow:hover:before {color: black;}#sk-container-id-1 div.sk-estimator:hover label.sk-toggleable__label-arrow:before {color: black;}#sk-container-id-1 div.sk-toggleable__content {max-height: 0;max-width: 0;overflow: hidden;text-align: left;background-color: #f0f8ff;}#sk-container-id-1 div.sk-toggleable__content pre {margin: 0.2em;color: black;border-radius: 0.25em;background-color: #f0f8ff;}#sk-container-id-1 input.sk-toggleable__control:checked~div.sk-toggleable__content {max-height: 200px;max-width: 100%;overflow: auto;}#sk-container-id-1 input.sk-toggleable__control:checked~label.sk-toggleable__label-arrow:before {content: \"▾\";}#sk-container-id-1 div.sk-estimator input.sk-toggleable__control:checked~label.sk-toggleable__label {background-color: #d4ebff;}#sk-container-id-1 div.sk-label input.sk-toggleable__control:checked~label.sk-toggleable__label {background-color: #d4ebff;}#sk-container-id-1 input.sk-hidden--visually {border: 0;clip: rect(1px 1px 1px 1px);clip: rect(1px, 1px, 1px, 1px);height: 1px;margin: -1px;overflow: hidden;padding: 0;position: absolute;width: 1px;}#sk-container-id-1 div.sk-estimator {font-family: monospace;background-color: #f0f8ff;border: 1px dotted black;border-radius: 0.25em;box-sizing: border-box;margin-bottom: 0.5em;}#sk-container-id-1 div.sk-estimator:hover {background-color: #d4ebff;}#sk-container-id-1 div.sk-parallel-item::after {content: \"\";width: 100%;border-bottom: 1px solid gray;flex-grow: 1;}#sk-container-id-1 div.sk-label:hover label.sk-toggleable__label {background-color: #d4ebff;}#sk-container-id-1 div.sk-serial::before {content: \"\";position: absolute;border-left: 1px solid gray;box-sizing: border-box;top: 0;bottom: 0;left: 50%;z-index: 0;}#sk-container-id-1 div.sk-serial {display: flex;flex-direction: column;align-items: center;background-color: white;padding-right: 0.2em;padding-left: 0.2em;position: relative;}#sk-container-id-1 div.sk-item {position: relative;z-index: 1;}#sk-container-id-1 div.sk-parallel {display: flex;align-items: stretch;justify-content: center;background-color: white;position: relative;}#sk-container-id-1 div.sk-item::before, #sk-container-id-1 div.sk-parallel-item::before {content: \"\";position: absolute;border-left: 1px solid gray;box-sizing: border-box;top: 0;bottom: 0;left: 50%;z-index: -1;}#sk-container-id-1 div.sk-parallel-item {display: flex;flex-direction: column;z-index: 1;position: relative;background-color: white;}#sk-container-id-1 div.sk-parallel-item:first-child::after {align-self: flex-end;width: 50%;}#sk-container-id-1 div.sk-parallel-item:last-child::after {align-self: flex-start;width: 50%;}#sk-container-id-1 div.sk-parallel-item:only-child::after {width: 0;}#sk-container-id-1 div.sk-dashed-wrapped {border: 1px dashed gray;margin: 0 0.4em 0.5em 0.4em;box-sizing: border-box;padding-bottom: 0.4em;background-color: white;}#sk-container-id-1 div.sk-label label {font-family: monospace;font-weight: bold;display: inline-block;line-height: 1.2em;}#sk-container-id-1 div.sk-label-container {text-align: center;}#sk-container-id-1 div.sk-container {/* jupyter's `normalize.less` sets `[hidden] { display: none; }` but bootstrap.min.css set `[hidden] { display: none !important; }` so we also need the `!important` here to be able to override the default hidden behavior on the sphinx rendered scikit-learn.org. See: https://github.com/scikit-learn/scikit-learn/issues/21755 */display: inline-block !important;position: relative;}#sk-container-id-1 div.sk-text-repr-fallback {display: none;}</style><div id=\"sk-container-id-1\" class=\"sk-top-container\"><div class=\"sk-text-repr-fallback\"><pre>ColumnTransformer(transformers=[(&#x27;num&#x27;,\n",
              "                                 Pipeline(steps=[(&#x27;standardscaler&#x27;,\n",
              "                                                  StandardScaler())]),\n",
              "                                 [&#x27;Income&#x27;, &#x27;Age&#x27;]),\n",
              "                                (&#x27;ordinal&#x27;,\n",
              "                                 Pipeline(steps=[(&#x27;ordinalencoder&#x27;,\n",
              "                                                  OrdinalEncoder(categories=[[&#x27;Undergraduate&#x27;,\n",
              "                                                                              &#x27;Graduate&#x27;,\n",
              "                                                                              &#x27;Postgraduate&#x27;]]))]),\n",
              "                                 [&#x27;Education_Level&#x27;]),\n",
              "                                (&#x27;nominal&#x27;,\n",
              "                                 Pipeline(steps=[(&#x27;onehotencoder&#x27;,\n",
              "                                                  OneHotEncoder())]),\n",
              "                                 [&#x27;Partner&#x27;])])</pre><b>In a Jupyter environment, please rerun this cell to show the HTML representation or trust the notebook. <br />On GitHub, the HTML representation is unable to render, please try loading this page with nbviewer.org.</b></div><div class=\"sk-container\" hidden><div class=\"sk-item sk-dashed-wrapped\"><div class=\"sk-label-container\"><div class=\"sk-label sk-toggleable\"><input class=\"sk-toggleable__control sk-hidden--visually\" id=\"sk-estimator-id-1\" type=\"checkbox\" ><label for=\"sk-estimator-id-1\" class=\"sk-toggleable__label sk-toggleable__label-arrow\">ColumnTransformer</label><div class=\"sk-toggleable__content\"><pre>ColumnTransformer(transformers=[(&#x27;num&#x27;,\n",
              "                                 Pipeline(steps=[(&#x27;standardscaler&#x27;,\n",
              "                                                  StandardScaler())]),\n",
              "                                 [&#x27;Income&#x27;, &#x27;Age&#x27;]),\n",
              "                                (&#x27;ordinal&#x27;,\n",
              "                                 Pipeline(steps=[(&#x27;ordinalencoder&#x27;,\n",
              "                                                  OrdinalEncoder(categories=[[&#x27;Undergraduate&#x27;,\n",
              "                                                                              &#x27;Graduate&#x27;,\n",
              "                                                                              &#x27;Postgraduate&#x27;]]))]),\n",
              "                                 [&#x27;Education_Level&#x27;]),\n",
              "                                (&#x27;nominal&#x27;,\n",
              "                                 Pipeline(steps=[(&#x27;onehotencoder&#x27;,\n",
              "                                                  OneHotEncoder())]),\n",
              "                                 [&#x27;Partner&#x27;])])</pre></div></div></div><div class=\"sk-parallel\"><div class=\"sk-parallel-item\"><div class=\"sk-item\"><div class=\"sk-label-container\"><div class=\"sk-label sk-toggleable\"><input class=\"sk-toggleable__control sk-hidden--visually\" id=\"sk-estimator-id-2\" type=\"checkbox\" ><label for=\"sk-estimator-id-2\" class=\"sk-toggleable__label sk-toggleable__label-arrow\">num</label><div class=\"sk-toggleable__content\"><pre>[&#x27;Income&#x27;, &#x27;Age&#x27;]</pre></div></div></div><div class=\"sk-serial\"><div class=\"sk-item\"><div class=\"sk-serial\"><div class=\"sk-item\"><div class=\"sk-estimator sk-toggleable\"><input class=\"sk-toggleable__control sk-hidden--visually\" id=\"sk-estimator-id-3\" type=\"checkbox\" ><label for=\"sk-estimator-id-3\" class=\"sk-toggleable__label sk-toggleable__label-arrow\">StandardScaler</label><div class=\"sk-toggleable__content\"><pre>StandardScaler()</pre></div></div></div></div></div></div></div></div><div class=\"sk-parallel-item\"><div class=\"sk-item\"><div class=\"sk-label-container\"><div class=\"sk-label sk-toggleable\"><input class=\"sk-toggleable__control sk-hidden--visually\" id=\"sk-estimator-id-4\" type=\"checkbox\" ><label for=\"sk-estimator-id-4\" class=\"sk-toggleable__label sk-toggleable__label-arrow\">ordinal</label><div class=\"sk-toggleable__content\"><pre>[&#x27;Education_Level&#x27;]</pre></div></div></div><div class=\"sk-serial\"><div class=\"sk-item\"><div class=\"sk-serial\"><div class=\"sk-item\"><div class=\"sk-estimator sk-toggleable\"><input class=\"sk-toggleable__control sk-hidden--visually\" id=\"sk-estimator-id-5\" type=\"checkbox\" ><label for=\"sk-estimator-id-5\" class=\"sk-toggleable__label sk-toggleable__label-arrow\">OrdinalEncoder</label><div class=\"sk-toggleable__content\"><pre>OrdinalEncoder(categories=[[&#x27;Undergraduate&#x27;, &#x27;Graduate&#x27;, &#x27;Postgraduate&#x27;]])</pre></div></div></div></div></div></div></div></div><div class=\"sk-parallel-item\"><div class=\"sk-item\"><div class=\"sk-label-container\"><div class=\"sk-label sk-toggleable\"><input class=\"sk-toggleable__control sk-hidden--visually\" id=\"sk-estimator-id-6\" type=\"checkbox\" ><label for=\"sk-estimator-id-6\" class=\"sk-toggleable__label sk-toggleable__label-arrow\">nominal</label><div class=\"sk-toggleable__content\"><pre>[&#x27;Partner&#x27;]</pre></div></div></div><div class=\"sk-serial\"><div class=\"sk-item\"><div class=\"sk-serial\"><div class=\"sk-item\"><div class=\"sk-estimator sk-toggleable\"><input class=\"sk-toggleable__control sk-hidden--visually\" id=\"sk-estimator-id-7\" type=\"checkbox\" ><label for=\"sk-estimator-id-7\" class=\"sk-toggleable__label sk-toggleable__label-arrow\">OneHotEncoder</label><div class=\"sk-toggleable__content\"><pre>OneHotEncoder()</pre></div></div></div></div></div></div></div></div></div></div></div></div>"
            ]
          },
          "metadata": {},
          "execution_count": 30
        }
      ],
      "source": [
        "transformer"
      ]
    },
    {
      "cell_type": "code",
      "execution_count": 31,
      "id": "938daf31",
      "metadata": {
        "ExecuteTime": {
          "end_time": "2023-05-26T04:26:52.451267Z",
          "start_time": "2023-05-26T04:26:52.418944Z"
        },
        "colab": {
          "base_uri": "https://localhost:8080/"
        },
        "id": "938daf31",
        "outputId": "f22d8391-5c9c-4668-e64a-58b8a16cd54b"
      },
      "outputs": [
        {
          "output_type": "stream",
          "name": "stdout",
          "text": [
            "Data has been Transformed\n"
          ]
        }
      ],
      "source": [
        "# Now lets fit and transform the data\n",
        "transformed = transformer.fit_transform(subset)\n",
        "print('Data has been Transformed')"
      ]
    },
    {
      "cell_type": "markdown",
      "id": "2e582d43",
      "metadata": {
        "id": "2e582d43"
      },
      "source": [
        "# K-MEANS CLUSTERING & CLUSTER's ANALYSIS"
      ]
    },
    {
      "cell_type": "code",
      "execution_count": 32,
      "id": "4fbaadd9",
      "metadata": {
        "ExecuteTime": {
          "end_time": "2023-05-26T04:26:55.126020Z",
          "start_time": "2023-05-26T04:26:52.454833Z"
        },
        "colab": {
          "base_uri": "https://localhost:8080/",
          "height": 657
        },
        "id": "4fbaadd9",
        "outputId": "563d2272-58a7-4642-9589-b945ba7e9dfa"
      },
      "outputs": [
        {
          "output_type": "display_data",
          "data": {
            "text/plain": [
              "<Figure size 1200x800 with 2 Axes>"
            ],
            "image/png": "[encoded data removed]"
          },
          "metadata": {}
        },
        {
          "output_type": "execute_result",
          "data": {
            "text/plain": [
              "<Axes: title={'center': 'Distortion Score Elbow for KMeans Clustering'}, xlabel='k', ylabel='distortion score'>"
            ]
          },
          "metadata": {},
          "execution_count": 32
        }
      ],
      "source": [
        "plt.figure(figsize=(12, 8))\n",
        "elbow_graph = KElbowVisualizer(KMeans(random_state=43), k=10)\n",
        "elbow_graph.fit(transformed)\n",
        "elbow_graph.show()"
      ]
    },
    {
      "cell_type": "markdown",
      "id": "df2a1688",
      "metadata": {
        "id": "df2a1688"
      },
      "source": [
        "From above it is clear that k=4"
      ]
    },
    {
      "cell_type": "code",
      "execution_count": 33,
      "id": "3b5b913d",
      "metadata": {
        "ExecuteTime": {
          "end_time": "2023-05-26T04:26:55.341693Z",
          "start_time": "2023-05-26T04:26:55.129608Z"
        },
        "id": "3b5b913d"
      },
      "outputs": [],
      "source": [
        "# using k-means to form clusters\n",
        "kmeans = KMeans(n_clusters=4, random_state=42)\n",
        "subset['Clusters'] = kmeans.fit_predict(transformed) #fit the data and adding back clusters to the data in clusters column"
      ]
    },
    {
      "cell_type": "code",
      "execution_count": 34,
      "id": "2d63d515",
      "metadata": {
        "ExecuteTime": {
          "end_time": "2023-05-26T04:26:55.373194Z",
          "start_time": "2023-05-26T04:26:55.344473Z"
        },
        "colab": {
          "base_uri": "https://localhost:8080/",
          "height": 206
        },
        "id": "2d63d515",
        "outputId": "d6c09eab-7e77-41a4-a0b2-edb6bb1ce6dc"
      },
      "outputs": [
        {
          "output_type": "execute_result",
          "data": {
            "text/plain": [
              "    Income  Kidhome  Teenhome  Age Partner Education_Level  Clusters\n",
              "0  58138.0        0         0   57      No        Graduate         2\n",
              "1  46344.0        1         1   60      No        Graduate         2\n",
              "2  71613.0        0         0   49     Yes        Graduate         1\n",
              "3  26646.0        1         0   30     Yes        Graduate         0\n",
              "4  58293.0        1         0   33     Yes    Postgraduate         1"
            ],
            "text/html": [
              "\n",
              "  <div id=\"df-b0b743ef-49fd-4546-9e90-33ea3978bdda\">\n",
              "    <div class=\"colab-df-container\">\n",
              "      <div>\n",
              "<style scoped>\n",
              "    .dataframe tbody tr th:only-of-type {\n",
              "        vertical-align: middle;\n",
              "    }\n",
              "\n",
              "    .dataframe tbody tr th {\n",
              "        vertical-align: top;\n",
              "    }\n",
              "\n",
              "    .dataframe thead th {\n",
              "        text-align: right;\n",
              "    }\n",
              "</style>\n",
              "<table border=\"1\" class=\"dataframe\">\n",
              "  <thead>\n",
              "    <tr style=\"text-align: right;\">\n",
              "      <th></th>\n",
              "      <th>Income</th>\n",
              "      <th>Kidhome</th>\n",
              "      <th>Teenhome</th>\n",
              "      <th>Age</th>\n",
              "      <th>Partner</th>\n",
              "      <th>Education_Level</th>\n",
              "      <th>Clusters</th>\n",
              "    </tr>\n",
              "  </thead>\n",
              "  <tbody>\n",
              "    <tr>\n",
              "      <th>0</th>\n",
              "      <td>58138.0</td>\n",
              "      <td>0</td>\n",
              "      <td>0</td>\n",
              "      <td>57</td>\n",
              "      <td>No</td>\n",
              "      <td>Graduate</td>\n",
              "      <td>2</td>\n",
              "    </tr>\n",
              "    <tr>\n",
              "      <th>1</th>\n",
              "      <td>46344.0</td>\n",
              "      <td>1</td>\n",
              "      <td>1</td>\n",
              "      <td>60</td>\n",
              "      <td>No</td>\n",
              "      <td>Graduate</td>\n",
              "      <td>2</td>\n",
              "    </tr>\n",
              "    <tr>\n",
              "      <th>2</th>\n",
              "      <td>71613.0</td>\n",
              "      <td>0</td>\n",
              "      <td>0</td>\n",
              "      <td>49</td>\n",
              "      <td>Yes</td>\n",
              "      <td>Graduate</td>\n",
              "      <td>1</td>\n",
              "    </tr>\n",
              "    <tr>\n",
              "      <th>3</th>\n",
              "      <td>26646.0</td>\n",
              "      <td>1</td>\n",
              "      <td>0</td>\n",
              "      <td>30</td>\n",
              "      <td>Yes</td>\n",
              "      <td>Graduate</td>\n",
              "      <td>0</td>\n",
              "    </tr>\n",
              "    <tr>\n",
              "      <th>4</th>\n",
              "      <td>58293.0</td>\n",
              "      <td>1</td>\n",
              "      <td>0</td>\n",
              "      <td>33</td>\n",
              "      <td>Yes</td>\n",
              "      <td>Postgraduate</td>\n",
              "      <td>1</td>\n",
              "    </tr>\n",
              "  </tbody>\n",
              "</table>\n",
              "</div>\n",
              "      <button class=\"colab-df-convert\" onclick=\"convertToInteractive('df-b0b743ef-49fd-4546-9e90-33ea3978bdda')\"\n",
              "              title=\"Convert this dataframe to an interactive table.\"\n",
              "              style=\"display:none;\">\n",
              "        \n",
              "  <svg xmlns=\"http://www.w3.org/2000/svg\" height=\"24px\"viewBox=\"0 0 24 24\"\n",
              "       width=\"24px\">\n",
              "    <path d=\"M0 0h24v24H0V0z\" fill=\"none\"/>\n",
              "    <path d=\"M18.56 5.44l.94 2.06.94-2.06 2.06-.94-2.06-.94-.94-2.06-.94 2.06-2.06.94zm-11 1L8.5 8.5l.94-2.06 2.06-.94-2.06-.94L8.5 2.5l-.94 2.06-2.06.94zm10 10l.94 2.06.94-2.06 2.06-.94-2.06-.94-.94-2.06-.94 2.06-2.06.94z\"/><path d=\"M17.41 7.96l-1.37-1.37c-.4-.4-.92-.59-1.43-.59-.52 0-1.04.2-1.43.59L10.3 9.45l-7.72 7.72c-.78.78-.78 2.05 0 2.83L4 21.41c.39.39.9.59 1.41.59.51 0 1.02-.2 1.41-.59l7.78-7.78 2.81-2.81c.8-.78.8-2.07 0-2.86zM5.41 20L4 18.59l7.72-7.72 1.47 1.35L5.41 20z\"/>\n",
              "  </svg>\n",
              "      </button>\n",
              "      \n",
              "  <style>\n",
              "    .colab-df-container {\n",
              "      display:flex;\n",
              "      flex-wrap:wrap;\n",
              "      gap: 12px;\n",
              "    }\n",
              "\n",
              "    .colab-df-convert {\n",
              "      background-color: #E8F0FE;\n",
              "      border: none;\n",
              "      border-radius: 50%;\n",
              "      cursor: pointer;\n",
              "      display: none;\n",
              "      fill: #1967D2;\n",
              "      height: 32px;\n",
              "      padding: 0 0 0 0;\n",
              "      width: 32px;\n",
              "    }\n",
              "\n",
              "    .colab-df-convert:hover {\n",
              "      background-color: #E2EBFA;\n",
              "      box-shadow: 0px 1px 2px rgba(60, 64, 67, 0.3), 0px 1px 3px 1px rgba(60, 64, 67, 0.15);\n",
              "      fill: #174EA6;\n",
              "    }\n",
              "\n",
              "    [theme=dark] .colab-df-convert {\n",
              "      background-color: #3B4455;\n",
              "      fill: #D2E3FC;\n",
              "    }\n",
              "\n",
              "    [theme=dark] .colab-df-convert:hover {\n",
              "      background-color: #434B5C;\n",
              "      box-shadow: 0px 1px 3px 1px rgba(0, 0, 0, 0.15);\n",
              "      filter: drop-shadow(0px 1px 2px rgba(0, 0, 0, 0.3));\n",
              "      fill: #FFFFFF;\n",
              "    }\n",
              "  </style>\n",
              "\n",
              "      <script>\n",
              "        const buttonEl =\n",
              "          document.querySelector('#df-b0b743ef-49fd-4546-9e90-33ea3978bdda button.colab-df-convert');\n",
              "        buttonEl.style.display =\n",
              "          google.colab.kernel.accessAllowed ? 'block' : 'none';\n",
              "\n",
              "        async function convertToInteractive(key) {\n",
              "          const element = document.querySelector('#df-b0b743ef-49fd-4546-9e90-33ea3978bdda');\n",
              "          const dataTable =\n",
              "            await google.colab.kernel.invokeFunction('convertToInteractive',\n",
              "                                                     [key], {});\n",
              "          if (!dataTable) return;\n",
              "\n",
              "          const docLinkHtml = 'Like what you see? Visit the ' +\n",
              "            '<a target=\"_blank\" href=https://colab.research.google.com/notebooks/data_table.ipynb>data table notebook</a>'\n",
              "            + ' to learn more about interactive tables.';\n",
              "          element.innerHTML = '';\n",
              "          dataTable['output_type'] = 'display_data';\n",
              "          await google.colab.output.renderOutput(dataTable, element);\n",
              "          const docLink = document.createElement('div');\n",
              "          docLink.innerHTML = docLinkHtml;\n",
              "          element.appendChild(docLink);\n",
              "        }\n",
              "      </script>\n",
              "    </div>\n",
              "  </div>\n",
              "  "
            ]
          },
          "metadata": {},
          "execution_count": 34
        }
      ],
      "source": [
        "subset.head()"
      ]
    },
    {
      "cell_type": "code",
      "execution_count": 35,
      "id": "fd0e4185",
      "metadata": {
        "ExecuteTime": {
          "end_time": "2023-05-26T04:26:55.683202Z",
          "start_time": "2023-05-26T04:26:55.375312Z"
        },
        "colab": {
          "base_uri": "https://localhost:8080/",
          "height": 675
        },
        "id": "fd0e4185",
        "outputId": "00187c09-3919-4b42-918a-bfd394f8329d"
      },
      "outputs": [
        {
          "output_type": "display_data",
          "data": {
            "text/plain": [
              "<Figure size 1200x800 with 1 Axes>"
            ],
            "image/png": "[encoded data removed]"
          },
          "metadata": {}
        }
      ],
      "source": [
        "# count plot to see number of customers in each cluster\n",
        "plt.figure(figsize=(12, 8))\n",
        "sns.countplot(x='Clusters', data=subset, palette=palette)\n",
        "plt.title('Customer Distribution Within Clusters')\n",
        "plt.show()"
      ]
    },
    {
      "cell_type": "markdown",
      "id": "0926d1a6",
      "metadata": {
        "id": "0926d1a6"
      },
      "source": [
        "Observations 👀\n",
        "1. Cluster 2 has highest number of customers\n",
        "2. Cluster 3 has least number of customers"
      ]
    },
    {
      "cell_type": "markdown",
      "id": "99258888",
      "metadata": {
        "id": "99258888"
      },
      "source": [
        "Lets find out what number of customers in each cluster have how many Kids or Teens in household, how many of them have partner and their education level"
      ]
    },
    {
      "cell_type": "code",
      "execution_count": 36,
      "id": "b5bcb9d1",
      "metadata": {
        "ExecuteTime": {
          "end_time": "2023-05-26T04:26:56.913512Z",
          "start_time": "2023-05-26T04:26:55.686314Z"
        },
        "colab": {
          "base_uri": "https://localhost:8080/",
          "height": 842
        },
        "id": "b5bcb9d1",
        "outputId": "39f3e265-29e1-4161-83fe-473e12e7398f"
      },
      "outputs": [
        {
          "output_type": "display_data",
          "data": {
            "text/plain": [
              "<Figure size 2500x2200 with 4 Axes>"
            ],
            "image/png": "[encoded data removed]"
          },
          "metadata": {}
        }
      ],
      "source": [
        "# create list of categories\n",
        "count_cols= ['Kidhome','Teenhome','Partner','Education_Level']\n",
        "\n",
        "_, ax1 = plt.subplots(2,2, figsize=(25,22))\n",
        "\n",
        "for i, col in enumerate(count_cols):\n",
        "    sns.countplot(x='Clusters', data=subset, ax=ax1[i//2, i%2],hue=col,palette=palette)\n",
        "    \n",
        "plt.show()"
      ]
    },
    {
      "cell_type": "markdown",
      "id": "658f5752",
      "metadata": {
        "id": "658f5752"
      },
      "source": [
        "Observations 👀\n",
        "**Kidhome:** * Cluster 0 mostly has customers with 1 kid in household * Cluster 1 has customers with no kids in household * Cluster 2 also has large number of customers with no kids in household * Cluster 3 has customers with 0 and 1 kids in household **Teenhome:** * Cluster 0 consist of customers with no teen in household & few of them have 1 Teen in household * Same goes for the cluster 1 & 3 * Cluster 2 has customers with 1 Teen in household **Partner:** * All the customers in cluster 0 have partner * All The customers in cluster 3 have no partner * Cluster 1 & 2 has customers with and without partner, but most of them have partner **Education_Level:** * All clusters have customers with graduate, postgraduate and undergraduate background * All clusters have less number of customers with undergraduate background * Cluter 2 has highest number of postgraduates and graduates"
      ]
    },
    {
      "cell_type": "code",
      "execution_count": 37,
      "id": "c1ed1395",
      "metadata": {
        "ExecuteTime": {
          "end_time": "2023-05-26T04:26:57.491375Z",
          "start_time": "2023-05-26T04:26:56.918045Z"
        },
        "colab": {
          "base_uri": "https://localhost:8080/",
          "height": 680
        },
        "id": "c1ed1395",
        "outputId": "0b7b52a4-fe99-4950-e287-6d85f06cc3bc"
      },
      "outputs": [
        {
          "output_type": "display_data",
          "data": {
            "text/plain": [
              "<Figure size 1200x800 with 1 Axes>"
            ],
            "image/png": "[encoded data removed]"
          },
          "metadata": {}
        }
      ],
      "source": [
        "# Find out the customers which have kids in different clusters\n",
        "plt.figure(figsize=(12, 8))\n",
        "sns.barplot(x=subset[\"Clusters\"], y=subset[\"Kidhome\"],palette=palette)\n",
        "plt.title(\"Kids In Household vs Clusters\", size=15)\n",
        "plt.show()"
      ]
    },
    {
      "cell_type": "markdown",
      "id": "15ece4df",
      "metadata": {
        "id": "15ece4df"
      },
      "source": [
        "Observation:\n",
        "\n",
        "Cluster 0 and 3 has the maximum number of customers with kids in household\n",
        "Cluster 1 and 2 has the least number of customers with kids in household"
      ]
    },
    {
      "cell_type": "code",
      "execution_count": 38,
      "id": "df766785",
      "metadata": {
        "ExecuteTime": {
          "end_time": "2023-05-26T04:26:58.044901Z",
          "start_time": "2023-05-26T04:26:57.493332Z"
        },
        "colab": {
          "base_uri": "https://localhost:8080/",
          "height": 680
        },
        "id": "df766785",
        "outputId": "d23ca7db-230a-4200-9714-2e1e91753eb1"
      },
      "outputs": [
        {
          "output_type": "display_data",
          "data": {
            "text/plain": [
              "<Figure size 1200x800 with 1 Axes>"
            ],
            "image/png": "[encoded data removed]"
          },
          "metadata": {}
        }
      ],
      "source": [
        "# Find out the customers which have kids in different clusters\n",
        "plt.figure(figsize=(12, 8))\n",
        "sns.barplot(x=subset[\"Clusters\"], y=subset[\"Teenhome\"],palette=palette)\n",
        "plt.title(\"Teens In Household vs Clusters\", size=15)\n",
        "plt.show()"
      ]
    },
    {
      "cell_type": "markdown",
      "id": "360b11dd",
      "metadata": {
        "id": "360b11dd"
      },
      "source": [
        "Observations 👀\n",
        "1. Cluster 2 has maximum number of customers having Teens in household\n",
        "2. Remaining Clusters also have customers with Teens in household but they are less as compared to cluster 2"
      ]
    },
    {
      "cell_type": "code",
      "execution_count": 39,
      "id": "7bc1b8bd",
      "metadata": {
        "ExecuteTime": {
          "end_time": "2023-05-26T04:26:58.594459Z",
          "start_time": "2023-05-26T04:26:58.048995Z"
        },
        "colab": {
          "base_uri": "https://localhost:8080/",
          "height": 667
        },
        "id": "7bc1b8bd",
        "outputId": "052e3316-a592-4e2f-ce09-79f698087e7f"
      },
      "outputs": [
        {
          "output_type": "display_data",
          "data": {
            "text/plain": [
              "<Figure size 1200x800 with 1 Axes>"
            ],
            "image/png": "[encoded data removed]"
          },
          "metadata": {}
        }
      ],
      "source": [
        "# Lets findout income of customers with in clusters\n",
        "plt.figure(figsize=(12, 8))\n",
        "sns.barplot(x=subset[\"Clusters\"], y=subset[\"Income\"],palette=palette)\n",
        "plt.title(\"Income vs Clusters\", size=15)\n",
        "plt.show()"
      ]
    },
    {
      "cell_type": "markdown",
      "id": "a674a3f2",
      "metadata": {
        "id": "a674a3f2"
      },
      "source": [
        "Observations 👀\n",
        "1. Cluster 1 has high Income followed by cluster 2. Which is little strange cause cluster 2 has highest number of customers and most number of post graduates & graduates as compared to cluster 1\n",
        "2. Cluster 0 and 3 has least income"
      ]
    },
    {
      "cell_type": "markdown",
      "id": "d45c6cf1",
      "metadata": {
        "id": "d45c6cf1"
      },
      "source": [
        "Following graphs shows what are the contributing factors in income"
      ]
    },
    {
      "cell_type": "code",
      "execution_count": 40,
      "id": "5c7fee4a",
      "metadata": {
        "ExecuteTime": {
          "end_time": "2023-05-26T04:27:02.601604Z",
          "start_time": "2023-05-26T04:26:58.598767Z"
        },
        "colab": {
          "base_uri": "https://localhost:8080/",
          "height": 835
        },
        "id": "5c7fee4a",
        "outputId": "6f0b3376-247b-48ad-fd8b-ed631f67245b"
      },
      "outputs": [
        {
          "output_type": "display_data",
          "data": {
            "text/plain": [
              "<Figure size 2500x2200 with 4 Axes>"
            ],
            "image/png": "[encoded data removed]"
          },
          "metadata": {}
        }
      ],
      "source": [
        "catcols= ['Kidhome','Teenhome','Partner','Education_Level']\n",
        "\n",
        "_, ax1 = plt.subplots(2,2, figsize=(25,22))\n",
        "\n",
        "for i, col in enumerate(catcols):\n",
        "    sns.barplot(x='Clusters', y='Income', data=subset, ax=ax1[i//2, i%2],hue=col,palette=palette)\n",
        "    \n",
        "plt.show()"
      ]
    },
    {
      "cell_type": "markdown",
      "id": "8d2478d2",
      "metadata": {
        "id": "8d2478d2"
      },
      "source": [
        "Observations 👀\n",
        "1. Very interesting thing i can see from first 2 plots is, We saw before the number of customers with 2 kids or teens is very very less still their income is similar to the customers which have no kids or teens or have 1 kid & teen. So I conclude that the customers with more than 1 kid or teen in houehold has high household income 1\n",
        "2. From last 2 plots i think education_level and partner has nothing to do with income. Infact undergraduates are earniing equal or more than graduates and postgraduates within each cluster."
      ]
    },
    {
      "cell_type": "markdown",
      "id": "c02f37ca",
      "metadata": {
        "id": "c02f37ca"
      },
      "source": [
        "# CUSTOMER PROFILING"
      ]
    },
    {
      "cell_type": "markdown",
      "source": [
        "CLUSTER 1\n",
        "1.fewer customers but with highest income\n",
        "2.no kids,few have 1 teen\n",
        "3.graduates and postgraduates\n",
        "4.most of them have a partner\n",
        "CLUSTER 0\n",
        "1.least income\n",
        "2.1 kid and few have 1 teen also\n",
        "3.graduates and post graduates but also has most undergraduates than any cluster\n",
        "4.all have partner\n",
        "CLUSTER 2\n",
        "1.max number of customers have high income\n",
        "2.no kids,few have 1 or 2 teen\n",
        "3.high number of postgraduates and graduates\n",
        "4.most of them have partner\n",
        "CLUSTER 3\n",
        "1.fewer customers have less income\n",
        "2.1 kid and few have 1 teen also\n",
        "3.graduates and postgraduates\n",
        "4.all have no patrner\n"
      ],
      "metadata": {
        "id": "CUq0T7wSkk-c"
      },
      "id": "CUq0T7wSkk-c"
    },
    {
      "cell_type": "markdown",
      "id": "1537af85",
      "metadata": {
        "id": "1537af85"
      },
      "source": [
        "# MODEL BUILDING"
      ]
    },
    {
      "cell_type": "markdown",
      "id": "d27ed3f6",
      "metadata": {
        "id": "d27ed3f6"
      },
      "source": [
        "Now lets build a multi classification model that will predict the cluster for given input of perticular customer"
      ]
    },
    {
      "cell_type": "markdown",
      "source": [
        "1.import required libraries\n",
        "2.seperate features and target column (Clusters)\n",
        "3.create train and test split\n",
        "4.just add gradient boosting classifier to existing transformer pipline\n",
        "5.fit data to the new pipline\n"
      ],
      "metadata": {
        "id": "Fzbl6HXQnqIe"
      },
      "id": "Fzbl6HXQnqIe"
    },
    {
      "cell_type": "code",
      "execution_count": 41,
      "id": "053d3578",
      "metadata": {
        "ExecuteTime": {
          "end_time": "2023-05-26T04:27:32.109271Z",
          "start_time": "2023-05-26T04:27:31.407639Z"
        },
        "id": "053d3578"
      },
      "outputs": [],
      "source": [
        "# import required libraries\n",
        "from sklearn.model_selection import train_test_split\n",
        "from sklearn.metrics import classification_report, confusion_matrix\n",
        "from sklearn.ensemble import GradientBoostingClassifier"
      ]
    },
    {
      "cell_type": "code",
      "execution_count": 42,
      "id": "ee3f035d",
      "metadata": {
        "ExecuteTime": {
          "end_time": "2023-05-26T04:27:34.403935Z",
          "start_time": "2023-05-26T04:27:34.390300Z"
        },
        "id": "ee3f035d"
      },
      "outputs": [],
      "source": [
        "# separate features and target column\n",
        "x = subset.drop('Clusters', axis=1)\n",
        "y = subset['Clusters']"
      ]
    },
    {
      "cell_type": "code",
      "execution_count": 43,
      "id": "4ba6f604",
      "metadata": {
        "ExecuteTime": {
          "end_time": "2023-05-26T04:27:37.264662Z",
          "start_time": "2023-05-26T04:27:37.246981Z"
        },
        "id": "4ba6f604"
      },
      "outputs": [],
      "source": [
        "# create train and test data\n",
        "x_train, x_test, y_train, y_test = train_test_split(x,y, test_size=0.3, random_state=42)"
      ]
    },
    {
      "cell_type": "code",
      "execution_count": 44,
      "id": "b48edfcf",
      "metadata": {
        "ExecuteTime": {
          "end_time": "2023-05-26T04:27:40.124975Z",
          "start_time": "2023-05-26T04:27:40.113151Z"
        },
        "id": "b48edfcf"
      },
      "outputs": [],
      "source": [
        "# adding GradientBoostingClassifier to transformer pipeline\n",
        "final_pipeline = make_pipeline(transformer, GradientBoostingClassifier())"
      ]
    },
    {
      "cell_type": "code",
      "execution_count": 45,
      "id": "8ff8e321",
      "metadata": {
        "ExecuteTime": {
          "end_time": "2023-05-26T04:27:44.120699Z",
          "start_time": "2023-05-26T04:27:42.495519Z"
        },
        "colab": {
          "base_uri": "https://localhost:8080/",
          "height": 192
        },
        "id": "8ff8e321",
        "outputId": "f1f4dd48-b8b1-4293-842e-6b8b9a9869cf"
      },
      "outputs": [
        {
          "output_type": "execute_result",
          "data": {
            "text/plain": [
              "Pipeline(steps=[('columntransformer',\n",
              "                 ColumnTransformer(transformers=[('num',\n",
              "                                                  Pipeline(steps=[('standardscaler',\n",
              "                                                                   StandardScaler())]),\n",
              "                                                  ['Income', 'Age']),\n",
              "                                                 ('ordinal',\n",
              "                                                  Pipeline(steps=[('ordinalencoder',\n",
              "                                                                   OrdinalEncoder(categories=[['Undergraduate',\n",
              "                                                                                               'Graduate',\n",
              "                                                                                               'Postgraduate']]))]),\n",
              "                                                  ['Education_Level']),\n",
              "                                                 ('nominal',\n",
              "                                                  Pipeline(steps=[('onehotencoder',\n",
              "                                                                   OneHotEncoder())]),\n",
              "                                                  ['Partner'])])),\n",
              "                ('gradientboostingclassifier', GradientBoostingClassifier())])"
            ],
            "text/html": [
              "<style>#sk-container-id-2 {color: black;background-color: white;}#sk-container-id-2 pre{padding: 0;}#sk-container-id-2 div.sk-toggleable {background-color: white;}#sk-container-id-2 label.sk-toggleable__label {cursor: pointer;display: block;width: 100%;margin-bottom: 0;padding: 0.3em;box-sizing: border-box;text-align: center;}#sk-container-id-2 label.sk-toggleable__label-arrow:before {content: \"▸\";float: left;margin-right: 0.25em;color: #696969;}#sk-container-id-2 label.sk-toggleable__label-arrow:hover:before {color: black;}#sk-container-id-2 div.sk-estimator:hover label.sk-toggleable__label-arrow:before {color: black;}#sk-container-id-2 div.sk-toggleable__content {max-height: 0;max-width: 0;overflow: hidden;text-align: left;background-color: #f0f8ff;}#sk-container-id-2 div.sk-toggleable__content pre {margin: 0.2em;color: black;border-radius: 0.25em;background-color: #f0f8ff;}#sk-container-id-2 input.sk-toggleable__control:checked~div.sk-toggleable__content {max-height: 200px;max-width: 100%;overflow: auto;}#sk-container-id-2 input.sk-toggleable__control:checked~label.sk-toggleable__label-arrow:before {content: \"▾\";}#sk-container-id-2 div.sk-estimator input.sk-toggleable__control:checked~label.sk-toggleable__label {background-color: #d4ebff;}#sk-container-id-2 div.sk-label input.sk-toggleable__control:checked~label.sk-toggleable__label {background-color: #d4ebff;}#sk-container-id-2 input.sk-hidden--visually {border: 0;clip: rect(1px 1px 1px 1px);clip: rect(1px, 1px, 1px, 1px);height: 1px;margin: -1px;overflow: hidden;padding: 0;position: absolute;width: 1px;}#sk-container-id-2 div.sk-estimator {font-family: monospace;background-color: #f0f8ff;border: 1px dotted black;border-radius: 0.25em;box-sizing: border-box;margin-bottom: 0.5em;}#sk-container-id-2 div.sk-estimator:hover {background-color: #d4ebff;}#sk-container-id-2 div.sk-parallel-item::after {content: \"\";width: 100%;border-bottom: 1px solid gray;flex-grow: 1;}#sk-container-id-2 div.sk-label:hover label.sk-toggleable__label {background-color: #d4ebff;}#sk-container-id-2 div.sk-serial::before {content: \"\";position: absolute;border-left: 1px solid gray;box-sizing: border-box;top: 0;bottom: 0;left: 50%;z-index: 0;}#sk-container-id-2 div.sk-serial {display: flex;flex-direction: column;align-items: center;background-color: white;padding-right: 0.2em;padding-left: 0.2em;position: relative;}#sk-container-id-2 div.sk-item {position: relative;z-index: 1;}#sk-container-id-2 div.sk-parallel {display: flex;align-items: stretch;justify-content: center;background-color: white;position: relative;}#sk-container-id-2 div.sk-item::before, #sk-container-id-2 div.sk-parallel-item::before {content: \"\";position: absolute;border-left: 1px solid gray;box-sizing: border-box;top: 0;bottom: 0;left: 50%;z-index: -1;}#sk-container-id-2 div.sk-parallel-item {display: flex;flex-direction: column;z-index: 1;position: relative;background-color: white;}#sk-container-id-2 div.sk-parallel-item:first-child::after {align-self: flex-end;width: 50%;}#sk-container-id-2 div.sk-parallel-item:last-child::after {align-self: flex-start;width: 50%;}#sk-container-id-2 div.sk-parallel-item:only-child::after {width: 0;}#sk-container-id-2 div.sk-dashed-wrapped {border: 1px dashed gray;margin: 0 0.4em 0.5em 0.4em;box-sizing: border-box;padding-bottom: 0.4em;background-color: white;}#sk-container-id-2 div.sk-label label {font-family: monospace;font-weight: bold;display: inline-block;line-height: 1.2em;}#sk-container-id-2 div.sk-label-container {text-align: center;}#sk-container-id-2 div.sk-container {/* jupyter's `normalize.less` sets `[hidden] { display: none; }` but bootstrap.min.css set `[hidden] { display: none !important; }` so we also need the `!important` here to be able to override the default hidden behavior on the sphinx rendered scikit-learn.org. See: https://github.com/scikit-learn/scikit-learn/issues/21755 */display: inline-block !important;position: relative;}#sk-container-id-2 div.sk-text-repr-fallback {display: none;}</style><div id=\"sk-container-id-2\" class=\"sk-top-container\"><div class=\"sk-text-repr-fallback\"><pre>Pipeline(steps=[(&#x27;columntransformer&#x27;,\n",
              "                 ColumnTransformer(transformers=[(&#x27;num&#x27;,\n",
              "                                                  Pipeline(steps=[(&#x27;standardscaler&#x27;,\n",
              "                                                                   StandardScaler())]),\n",
              "                                                  [&#x27;Income&#x27;, &#x27;Age&#x27;]),\n",
              "                                                 (&#x27;ordinal&#x27;,\n",
              "                                                  Pipeline(steps=[(&#x27;ordinalencoder&#x27;,\n",
              "                                                                   OrdinalEncoder(categories=[[&#x27;Undergraduate&#x27;,\n",
              "                                                                                               &#x27;Graduate&#x27;,\n",
              "                                                                                               &#x27;Postgraduate&#x27;]]))]),\n",
              "                                                  [&#x27;Education_Level&#x27;]),\n",
              "                                                 (&#x27;nominal&#x27;,\n",
              "                                                  Pipeline(steps=[(&#x27;onehotencoder&#x27;,\n",
              "                                                                   OneHotEncoder())]),\n",
              "                                                  [&#x27;Partner&#x27;])])),\n",
              "                (&#x27;gradientboostingclassifier&#x27;, GradientBoostingClassifier())])</pre><b>In a Jupyter environment, please rerun this cell to show the HTML representation or trust the notebook. <br />On GitHub, the HTML representation is unable to render, please try loading this page with nbviewer.org.</b></div><div class=\"sk-container\" hidden><div class=\"sk-item sk-dashed-wrapped\"><div class=\"sk-label-container\"><div class=\"sk-label sk-toggleable\"><input class=\"sk-toggleable__control sk-hidden--visually\" id=\"sk-estimator-id-8\" type=\"checkbox\" ><label for=\"sk-estimator-id-8\" class=\"sk-toggleable__label sk-toggleable__label-arrow\">Pipeline</label><div class=\"sk-toggleable__content\"><pre>Pipeline(steps=[(&#x27;columntransformer&#x27;,\n",
              "                 ColumnTransformer(transformers=[(&#x27;num&#x27;,\n",
              "                                                  Pipeline(steps=[(&#x27;standardscaler&#x27;,\n",
              "                                                                   StandardScaler())]),\n",
              "                                                  [&#x27;Income&#x27;, &#x27;Age&#x27;]),\n",
              "                                                 (&#x27;ordinal&#x27;,\n",
              "                                                  Pipeline(steps=[(&#x27;ordinalencoder&#x27;,\n",
              "                                                                   OrdinalEncoder(categories=[[&#x27;Undergraduate&#x27;,\n",
              "                                                                                               &#x27;Graduate&#x27;,\n",
              "                                                                                               &#x27;Postgraduate&#x27;]]))]),\n",
              "                                                  [&#x27;Education_Level&#x27;]),\n",
              "                                                 (&#x27;nominal&#x27;,\n",
              "                                                  Pipeline(steps=[(&#x27;onehotencoder&#x27;,\n",
              "                                                                   OneHotEncoder())]),\n",
              "                                                  [&#x27;Partner&#x27;])])),\n",
              "                (&#x27;gradientboostingclassifier&#x27;, GradientBoostingClassifier())])</pre></div></div></div><div class=\"sk-serial\"><div class=\"sk-item sk-dashed-wrapped\"><div class=\"sk-label-container\"><div class=\"sk-label sk-toggleable\"><input class=\"sk-toggleable__control sk-hidden--visually\" id=\"sk-estimator-id-9\" type=\"checkbox\" ><label for=\"sk-estimator-id-9\" class=\"sk-toggleable__label sk-toggleable__label-arrow\">columntransformer: ColumnTransformer</label><div class=\"sk-toggleable__content\"><pre>ColumnTransformer(transformers=[(&#x27;num&#x27;,\n",
              "                                 Pipeline(steps=[(&#x27;standardscaler&#x27;,\n",
              "                                                  StandardScaler())]),\n",
              "                                 [&#x27;Income&#x27;, &#x27;Age&#x27;]),\n",
              "                                (&#x27;ordinal&#x27;,\n",
              "                                 Pipeline(steps=[(&#x27;ordinalencoder&#x27;,\n",
              "                                                  OrdinalEncoder(categories=[[&#x27;Undergraduate&#x27;,\n",
              "                                                                              &#x27;Graduate&#x27;,\n",
              "                                                                              &#x27;Postgraduate&#x27;]]))]),\n",
              "                                 [&#x27;Education_Level&#x27;]),\n",
              "                                (&#x27;nominal&#x27;,\n",
              "                                 Pipeline(steps=[(&#x27;onehotencoder&#x27;,\n",
              "                                                  OneHotEncoder())]),\n",
              "                                 [&#x27;Partner&#x27;])])</pre></div></div></div><div class=\"sk-parallel\"><div class=\"sk-parallel-item\"><div class=\"sk-item\"><div class=\"sk-label-container\"><div class=\"sk-label sk-toggleable\"><input class=\"sk-toggleable__control sk-hidden--visually\" id=\"sk-estimator-id-10\" type=\"checkbox\" ><label for=\"sk-estimator-id-10\" class=\"sk-toggleable__label sk-toggleable__label-arrow\">num</label><div class=\"sk-toggleable__content\"><pre>[&#x27;Income&#x27;, &#x27;Age&#x27;]</pre></div></div></div><div class=\"sk-serial\"><div class=\"sk-item\"><div class=\"sk-serial\"><div class=\"sk-item\"><div class=\"sk-estimator sk-toggleable\"><input class=\"sk-toggleable__control sk-hidden--visually\" id=\"sk-estimator-id-11\" type=\"checkbox\" ><label for=\"sk-estimator-id-11\" class=\"sk-toggleable__label sk-toggleable__label-arrow\">StandardScaler</label><div class=\"sk-toggleable__content\"><pre>StandardScaler()</pre></div></div></div></div></div></div></div></div><div class=\"sk-parallel-item\"><div class=\"sk-item\"><div class=\"sk-label-container\"><div class=\"sk-label sk-toggleable\"><input class=\"sk-toggleable__control sk-hidden--visually\" id=\"sk-estimator-id-12\" type=\"checkbox\" ><label for=\"sk-estimator-id-12\" class=\"sk-toggleable__label sk-toggleable__label-arrow\">ordinal</label><div class=\"sk-toggleable__content\"><pre>[&#x27;Education_Level&#x27;]</pre></div></div></div><div class=\"sk-serial\"><div class=\"sk-item\"><div class=\"sk-serial\"><div class=\"sk-item\"><div class=\"sk-estimator sk-toggleable\"><input class=\"sk-toggleable__control sk-hidden--visually\" id=\"sk-estimator-id-13\" type=\"checkbox\" ><label for=\"sk-estimator-id-13\" class=\"sk-toggleable__label sk-toggleable__label-arrow\">OrdinalEncoder</label><div class=\"sk-toggleable__content\"><pre>OrdinalEncoder(categories=[[&#x27;Undergraduate&#x27;, &#x27;Graduate&#x27;, &#x27;Postgraduate&#x27;]])</pre></div></div></div></div></div></div></div></div><div class=\"sk-parallel-item\"><div class=\"sk-item\"><div class=\"sk-label-container\"><div class=\"sk-label sk-toggleable\"><input class=\"sk-toggleable__control sk-hidden--visually\" id=\"sk-estimator-id-14\" type=\"checkbox\" ><label for=\"sk-estimator-id-14\" class=\"sk-toggleable__label sk-toggleable__label-arrow\">nominal</label><div class=\"sk-toggleable__content\"><pre>[&#x27;Partner&#x27;]</pre></div></div></div><div class=\"sk-serial\"><div class=\"sk-item\"><div class=\"sk-serial\"><div class=\"sk-item\"><div class=\"sk-estimator sk-toggleable\"><input class=\"sk-toggleable__control sk-hidden--visually\" id=\"sk-estimator-id-15\" type=\"checkbox\" ><label for=\"sk-estimator-id-15\" class=\"sk-toggleable__label sk-toggleable__label-arrow\">OneHotEncoder</label><div class=\"sk-toggleable__content\"><pre>OneHotEncoder()</pre></div></div></div></div></div></div></div></div></div></div><div class=\"sk-item\"><div class=\"sk-estimator sk-toggleable\"><input class=\"sk-toggleable__control sk-hidden--visually\" id=\"sk-estimator-id-16\" type=\"checkbox\" ><label for=\"sk-estimator-id-16\" class=\"sk-toggleable__label sk-toggleable__label-arrow\">GradientBoostingClassifier</label><div class=\"sk-toggleable__content\"><pre>GradientBoostingClassifier()</pre></div></div></div></div></div></div></div>"
            ]
          },
          "metadata": {},
          "execution_count": 45
        }
      ],
      "source": [
        "# fit the data to new pipeline & model\n",
        "final_pipeline.fit(x_train, y_train)"
      ]
    },
    {
      "cell_type": "markdown",
      "id": "3d797755",
      "metadata": {
        "id": "3d797755"
      },
      "source": [
        "Above is the diagram with all the steps in our pipeline"
      ]
    },
    {
      "cell_type": "code",
      "execution_count": 46,
      "id": "608778ca",
      "metadata": {
        "ExecuteTime": {
          "end_time": "2023-05-26T04:28:15.161045Z",
          "start_time": "2023-05-26T04:28:15.098141Z"
        },
        "colab": {
          "base_uri": "https://localhost:8080/"
        },
        "id": "608778ca",
        "outputId": "b2f87820-5a80-4fef-c589-782962918124"
      },
      "outputs": [
        {
          "output_type": "execute_result",
          "data": {
            "text/plain": [
              "0.9702380952380952"
            ]
          },
          "metadata": {},
          "execution_count": 46
        }
      ],
      "source": [
        "# check the accuracy of our model\n",
        "final_pipeline.score(x_test, y_test)"
      ]
    },
    {
      "cell_type": "markdown",
      "id": "f7ac99b7",
      "metadata": {
        "id": "f7ac99b7"
      },
      "source": [
        "You can export this pipeline with all the transformation and trained model"
      ]
    },
    {
      "cell_type": "code",
      "execution_count": 47,
      "id": "894f4629",
      "metadata": {
        "ExecuteTime": {
          "end_time": "2023-05-26T04:29:16.234840Z",
          "start_time": "2023-05-26T04:29:16.213977Z"
        },
        "id": "894f4629"
      },
      "outputs": [],
      "source": [
        "import pickle"
      ]
    },
    {
      "cell_type": "code",
      "execution_count": 48,
      "id": "2d3490c9",
      "metadata": {
        "ExecuteTime": {
          "end_time": "2023-05-26T04:29:25.617818Z",
          "start_time": "2023-05-26T04:29:25.559475Z"
        },
        "id": "2d3490c9"
      },
      "outputs": [],
      "source": [
        "filename = 'classifier.pkl' # create a variable with name you wanna give to the file\n",
        "pickle.dump(final_pipeline, open(filename,'wb')) "
      ]
    },
    {
      "cell_type": "code",
      "execution_count": 50,
      "id": "b403e61c",
      "metadata": {
        "ExecuteTime": {
          "end_time": "2023-05-26T05:06:26.554389Z",
          "start_time": "2023-05-26T05:06:26.539427Z"
        },
        "colab": {
          "base_uri": "https://localhost:8080/"
        },
        "id": "b403e61c",
        "outputId": "acc4b01e-518a-404e-b1f8-aaa7aac830cc"
      },
      "outputs": [
        {
          "output_type": "stream",
          "name": "stdout",
          "text": [
            "Overwriting customer_segmentation_app.py\n"
          ]
        }
      ],
      "source": [
        "%%writefile customer_segmentation_app.py \n",
        "\n",
        "\n",
        "# importing necessary libraries\n",
        "import pickle\n",
        "import streamlit as st\n",
        "import pandas as pd\n",
        "import numpy as np\n",
        "data = pd.read_pickle('classifier.pkl')\n",
        "\n",
        "#load the model\n",
        "classifier = pickle.load(open('data','rb'))\n",
        "\n",
        "\n",
        "#page configuration\n",
        "st.set_page_config(page_title = 'Customer Segmentation Web App', layout='centered')\n",
        "st.title('Customer Segmentation Web App')\n",
        "\n",
        "# customer segmentation function\n",
        "def segment_customers(input_data):\n",
        "    \n",
        "    prediction=classifier.predict(pd.DataFrame(input_data, columns=['Income','Kidhome','Teenhome','Age','Partner','Education_Level']))\n",
        "    print(prediction)\n",
        "    pred_1 = 0\n",
        "    if prediction == 0:\n",
        "            pred_1 = 'cluster 0'\n",
        "\n",
        "    elif prediction == 1:\n",
        "            pred_1 = 'cluster 1'\n",
        "\n",
        "    elif prediction == 2:\n",
        "            pred_1 = 'cluster 2'\n",
        "\n",
        "    elif prediction == 3:\n",
        "            pred_1 = 'cluster 3'\n",
        "\n",
        "    return pred_1\n",
        "\n",
        "def main():\n",
        "    \n",
        "    Income = st.text_input(\"Type In The Household Income\")\n",
        "    Kidhome = st.radio ( \"Select Number Of Kids In Household\", ('0', '1','2') )\n",
        "    Teenhome = st.radio ( \"Select Number Of Teens In Household\", ('0', '1','2') )\n",
        "    Age = st.slider ( \"Select Age\", 18, 85 )\n",
        "    Partner = st.radio ( \"Livig With Partner?\", ('Yes', 'No') )\n",
        "    Education_Level = st.radio ( \"Select Education\", (\"Undergraduate\", \"Graduate\", \"Postgraduate\") )\n",
        "    \n",
        "    result = \"\"\n",
        "\n",
        "    # when 'Predict' is clicked, make the prediction and store it\n",
        "    if st.button(\"Segment Customer\"):\n",
        "        result=segment_customers([[Income,Kidhome,Teenhome,Age,Partner,Education_Level]])\n",
        "    \n",
        "    st.success(result)\n",
        "    \n",
        "\n",
        "if __name__ == '__main__':\n",
        "        main ()"
      ]
    }
  ],
  "metadata": {
    "kernelspec": {
      "display_name": "Python 3 (ipykernel)",
      "language": "python",
      "name": "python3"
    },
    "language_info": {
      "codemirror_mode": {
        "name": "ipython",
        "version": 3
      },
      "file_extension": ".py",
      "mimetype": "text/x-python",
      "name": "python",
      "nbconvert_exporter": "python",
      "pygments_lexer": "ipython3",
      "version": "3.9.12"
    },
    "colab": {
      "provenance": []
    }
  },
  "nbformat": 4,
  "nbformat_minor": 5
}